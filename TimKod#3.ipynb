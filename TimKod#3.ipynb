{
 "cells": [
  {
   "cell_type": "code",
   "execution_count": 6,
   "metadata": {},
   "outputs": [],
   "source": [
    "from random import randint\n",
    "import random as random\n",
    "from math import log"
   ]
  },
  {
   "cell_type": "code",
   "execution_count": 7,
   "metadata": {},
   "outputs": [],
   "source": [
    "def readFile(file):\n",
    "    return open(file).read()"
   ]
  },
  {
   "cell_type": "code",
   "execution_count": 8,
   "metadata": {},
   "outputs": [
    {
     "name": "stdout",
     "output_type": "stream",
     "text": [
      "test\n"
     ]
    }
   ],
   "source": [
    "#ZADANIE 1\n",
    "print(\"test\")"
   ]
  },
  {
   "cell_type": "code",
   "execution_count": 9,
   "metadata": {},
   "outputs": [],
   "source": [
    "#Entropia\n",
    "# MAX - równomierne prawdopodobieństwo wszystkich elementów\n",
    "# 0 - prawdopodobieństwo = 1 (zerowa niepewność)\n",
    "\n",
    "# H(X) = -suma(p_i * log2(p_i))\n",
    "# p_i - prawdopodobieństwo wystąpienia elementu itego\n",
    "\n",
    "\n",
    "#Entropia warunkowa\n",
    "#jak bardzo rozrzucone są litery jeżeli poprzednia jest znana\n",
    "#zależnie od tego ile poprzednich elementów to inny stopień entropii warunkowej\n",
    "#-suma(prawdopodobieństwoWystąpieniaPary * log2(prawdopodobieństwoWystąpieniaWarunkowe))"
   ]
  },
  {
   "cell_type": "code",
   "execution_count": 10,
   "metadata": {},
   "outputs": [],
   "source": [
    "#Zadanie 1"
   ]
  },
  {
   "cell_type": "code",
   "execution_count": 11,
   "metadata": {},
   "outputs": [],
   "source": [
    "def entropia(probability):\n",
    "    h = 0\n",
    "    for p in probability:\n",
    "        h += p * log(p, 2)\n",
    "    \n",
    "    h = -h\n",
    "    return h"
   ]
  },
  {
   "cell_type": "code",
   "execution_count": 12,
   "metadata": {},
   "outputs": [
    {
     "data": {
      "text/plain": [
       "0.9709505944546686"
      ]
     },
     "execution_count": 12,
     "metadata": {},
     "output_type": "execute_result"
    }
   ],
   "source": [
    "entropia([0.4,0.6])"
   ]
  },
  {
   "cell_type": "code",
   "execution_count": 13,
   "metadata": {},
   "outputs": [],
   "source": [
    "base = []\n",
    "for i in range(26):\n",
    "    base.append(chr(i + 97))\n",
    "    \n",
    "base.append(\" \")    \n",
    "\n",
    "for i in range(10):\n",
    "    base.append(chr(i + 48))\n",
    "    "
   ]
  },
  {
   "cell_type": "code",
   "execution_count": 14,
   "metadata": {},
   "outputs": [],
   "source": [
    "def readLetters(text2):\n",
    "    letters = []\n",
    "    character = 0\n",
    "    for i in range(37):\n",
    "        letters.append(0)\n",
    "    for c in list(text2):\n",
    "        if c == \" \":\n",
    "            letters[26] += 1\n",
    "        else: \n",
    "            if ord(c) >= 48 and ord(c) <= 57:\n",
    "                character = ord(c)\n",
    "                letters[27 + (character - 48)] += 1\n",
    "            else:\n",
    "                character = ord(c)\n",
    "                letters[character - 97] += 1\n",
    "    return letters"
   ]
  },
  {
   "cell_type": "code",
   "execution_count": 15,
   "metadata": {},
   "outputs": [],
   "source": [
    "wikipedia = readFile(\"norm_wiki_sample.txt\")"
   ]
  },
  {
   "cell_type": "code",
   "execution_count": 16,
   "metadata": {},
   "outputs": [],
   "source": [
    "letters = readLetters(wikipedia)\n",
    "probability = []\n",
    "for letter in letters:\n",
    "    probability.append(letter / len(wikipedia))"
   ]
  },
  {
   "cell_type": "code",
   "execution_count": 17,
   "metadata": {},
   "outputs": [
    {
     "data": {
      "text/plain": [
       "4.2803962467015655"
      ]
     },
     "execution_count": 17,
     "metadata": {},
     "output_type": "execute_result"
    }
   ],
   "source": [
    "#entropia dla języka angielskiego:\n",
    "entropia(probability)"
   ]
  },
  {
   "cell_type": "code",
   "execution_count": 18,
   "metadata": {},
   "outputs": [
    {
     "data": {
      "text/plain": [
       "5.209453365628954"
      ]
     },
     "execution_count": 18,
     "metadata": {},
     "output_type": "execute_result"
    }
   ],
   "source": [
    "#entropia dla przybliżenia zerowego języka angielskiego\n",
    "n = 37\n",
    "prob = [1 / 37] * n\n",
    "entropia(prob)"
   ]
  },
  {
   "cell_type": "code",
   "execution_count": 19,
   "metadata": {},
   "outputs": [],
   "source": [
    "angielskiProbka = readFile(\"norm_wiki_en.txt\")"
   ]
  },
  {
   "cell_type": "code",
   "execution_count": 20,
   "metadata": {},
   "outputs": [],
   "source": [
    "letters = readLetters(angielskiProbka)\n",
    "probability = []\n",
    "for letter in letters:\n",
    "    probability.append(letter / len(angielskiProbka))"
   ]
  },
  {
   "cell_type": "code",
   "execution_count": 21,
   "metadata": {},
   "outputs": [
    {
     "data": {
      "text/plain": [
       "4.288221453845133"
      ]
     },
     "execution_count": 21,
     "metadata": {},
     "output_type": "execute_result"
    }
   ],
   "source": [
    "#entropia znakowa dla próbki języka angielskiego:\n",
    "entropia(probability)"
   ]
  },
  {
   "cell_type": "code",
   "execution_count": 22,
   "metadata": {},
   "outputs": [],
   "source": [
    "#-suma(prawdopodobieństwoWystąpieniaPary * log2(prawdopodobieństwoWystąpieniaWarunkowe))\n",
    "def entropiaWaruknowa(prawdopodobienstwoLaczne, prawdopodobienstwoWarunkowe):\n",
    "    h = 0\n",
    "    for pl, pw in zip(prawdopodobienstwoLaczne, prawdopodobienstwoWarunkowe):\n",
    "        h += pl * log(pw, 2)\n",
    "    \n",
    "    h = -h\n",
    "    return h"
   ]
  },
  {
   "cell_type": "code",
   "execution_count": 23,
   "metadata": {},
   "outputs": [],
   "source": [
    "#policzyć prawdopodobieństwo wystąpienia ciągu znaków rzędu n;\n",
    "#policzyć prawdopodobieństwo wystąpienia każdego znaku po ciągu znaków;\n",
    "#policzyć sumę prawdopodobieństw\n",
    "\n",
    "#powtórzyć dla kazdego ciągu znaków rzędu n"
   ]
  },
  {
   "cell_type": "code",
   "execution_count": 24,
   "metadata": {},
   "outputs": [
    {
     "data": {
      "text/plain": [
       "4.288221453845133"
      ]
     },
     "execution_count": 24,
     "metadata": {},
     "output_type": "execute_result"
    }
   ],
   "source": [
    "entropia(probability)"
   ]
  },
  {
   "cell_type": "code",
   "execution_count": 25,
   "metadata": {},
   "outputs": [],
   "source": [
    "from IPython.display import clear_output"
   ]
  },
  {
   "cell_type": "code",
   "execution_count": 26,
   "metadata": {},
   "outputs": [],
   "source": [
    "#tekst - tekst do przeszukania\n",
    "#l - długość n-gramu\n",
    "\n",
    "\n",
    "#O CO TUTAJ CHODZI\n",
    "#dla entropii warunkowej 1szego rzędu\n",
    "#dzielimy tekst na pary znaków\n",
    "#liczymy prawdopodobieństwo wystąpnienia kazdej pary (np. \"al\")\n",
    "#liczymy prawdopodobieństwo wystąpienia drugiego znaku po pierwszyym (np: \"l\" po \"a\") \n",
    "#(ile razy wystepuje \"al\" / ile razy występuje \"a\")\n",
    "#dla drugiego rzędu trójki\n",
    "#ile razy \"abc\"\n",
    "#ile razy \"c\" po \"ab\"\n",
    "\n",
    "def dzielenieTekstu(tekst, l):\n",
    "    ngrams = []\n",
    "    ngrams_counts = []\n",
    "    \n",
    "    chars = []\n",
    "    chars_counts = []\n",
    "    \n",
    "    percent = 0\n",
    "    for i in range(len(tekst) + 1):\n",
    "        if i >= l:\n",
    "            ngram = tekst[i-l:i]\n",
    "            #Zliczanie ngramu:\n",
    "            if ngram in ngrams:\n",
    "                ngrams_counts[ngrams.index(ngram)] += 1\n",
    "            else:\n",
    "                ngrams.append(ngram)\n",
    "                ngrams_counts.append(1)\n",
    "            #Zliczanie bez ostatniego znaku:\n",
    "            char = ngram[:-1]\n",
    "            #print(ngram, char)\n",
    "            if char in chars:\n",
    "                chars_counts[chars.index(char)] += 1\n",
    "            else:\n",
    "                chars.append(char)\n",
    "                chars_counts.append(1)\n",
    "                \n",
    "        \n",
    "            if i >  percent * (len(tekst) / 100):\n",
    "                clear_output()\n",
    "                print(percent, \"%\")\n",
    "                percent += 1\n",
    "                \n",
    "    return ngrams, ngrams_counts, chars, chars_counts\n",
    "            \n",
    "        "
   ]
  },
  {
   "cell_type": "code",
   "execution_count": 27,
   "metadata": {
    "scrolled": false
   },
   "outputs": [],
   "source": [
    "\n",
    "\n",
    "\n",
    "#O CO TUTAJ CHODZI\n",
    "#dla entropii warunkowej 1szego rzędu\n",
    "#dzielimy tekst na pary znaków\n",
    "#liczymy prawdopodobieństwo wystąpnienia kazdej pary (np. \"al\")\n",
    "#liczymy prawdopodobieństwo wystąpienia drugiego znaku po pierwszyym (np: \"l\" po \"a\") \n",
    "#(ile razy wystepuje \"al\" / ile razy występuje \"a\")\n",
    "#dla drugiego rzędu trójki\n",
    "#ile razy \"abc\"\n",
    "#ile razy \"c\" po \"ab\"\n",
    "\n",
    "#tekst - tekst do przeszukania\n",
    "#l - liczba wyrazów\n",
    "def dzielenieTekstuWyrazy(tekst, l):\n",
    "    sentences = []\n",
    "    sentences_counts = []\n",
    "    \n",
    "    words = []\n",
    "    words_counts = []\n",
    "    \n",
    "    percent = 0\n",
    "    sentance = []\n",
    "    for i, word in enumerate(tekst.split()):\n",
    "        sentance.append(word)\n",
    "        if i + 1 >= l:\n",
    "            \n",
    "            #Zliczanie ngramu:\n",
    "            if sentance in sentences:\n",
    "                sentences_counts[sentences.index(sentance)] += 1\n",
    "            else:\n",
    "                sentences.append(sentance)\n",
    "                sentences_counts.append(1)\n",
    "                \n",
    "            #Zliczanie bez ostatniego słowa:\n",
    "            word = sentance[:-1]\n",
    "            #print(sentance, word)\n",
    "            if word in words:\n",
    "                words_counts[words.index(word)] += 1\n",
    "            else:\n",
    "                words.append(word)\n",
    "                words_counts.append(1)\n",
    "                    \n",
    "                \n",
    "            #Remove first word in sentance\n",
    "            sentance = sentance[1:]\n",
    "        \n",
    "            if i >  percent * (len(tekst) / 100):\n",
    "                clear_output()\n",
    "                print(percent, \"%\")\n",
    "                percent += 1\n",
    "                \n",
    "    return sentences, sentences_counts, words, words_counts"
   ]
  },
  {
   "cell_type": "code",
   "execution_count": 28,
   "metadata": {},
   "outputs": [],
   "source": [
    "def obliczPrawdopodobienstwoWarunkoweWyrazow(sentences, sentences_counts, words, words_counts):\n",
    "    probability = []\n",
    "    \n",
    "    for sentence, sentence_count in zip(sentences, sentences_counts):\n",
    "        word = sentance[:-1]\n",
    "        word_count = words_counts[words.index(word)]\n",
    "        probability.append(sentences_counts / word_count)\n",
    "        #print(ngram)\n",
    "        #print(ngram_count)\n",
    "        #print(char_count)\n",
    "        #print(\"-------------\")\n",
    "        \n",
    "    return sentences, probability"
   ]
  },
  {
   "cell_type": "code",
   "execution_count": 29,
   "metadata": {},
   "outputs": [],
   "source": [
    "def obliczPrawdopodobienstwoWystapieniaZdania(sentences, sentences_counts):\n",
    "    probability = []\n",
    "    \n",
    "    for sentence, sentence_count in zip(sentences, sentences_counts):\n",
    "        probability.append(sentence_count / sum(sentences_counts))\n",
    "        \n",
    "    return sentences, probability"
   ]
  },
  {
   "cell_type": "code",
   "execution_count": 30,
   "metadata": {},
   "outputs": [],
   "source": [
    "def obliczPrawdopodobienstwoWarunkowe(ngrams, ngrams_counts, chars, chars_counts):\n",
    "    probability = []\n",
    "    \n",
    "    for ngram, ngram_count in zip(ngrams, ngrams_counts):\n",
    "        char = ngram[:len(ngram) - 1]\n",
    "        char_count = chars_counts[chars.index(char)]\n",
    "        probability.append(ngram_count / char_count)\n",
    "        #print(ngram)\n",
    "        #print(ngram_count)\n",
    "        #print(char_count)\n",
    "        #print(\"-------------\")\n",
    "        \n",
    "    return ngrams, probability"
   ]
  },
  {
   "cell_type": "code",
   "execution_count": 31,
   "metadata": {},
   "outputs": [],
   "source": [
    "def obliczPrawdopodobienstwoWystapieniaNgramu(ngrams, ngrams_counts):\n",
    "    probability = []\n",
    "    \n",
    "    for ngram, ngram_count in zip(ngrams, ngrams_counts):\n",
    "        probability.append(ngram_count / sum(ngrams_counts))\n",
    "        \n",
    "    return ngrams, probability"
   ]
  },
  {
   "cell_type": "code",
   "execution_count": 39,
   "metadata": {},
   "outputs": [],
   "source": [
    "def countWords(text2):\n",
    "    words = []\n",
    "    words_counts = []\n",
    "    \n",
    "    for word in text2.split():\n",
    "        if word in words:\n",
    "            words_counts[words.index(word)] += 1\n",
    "        else:\n",
    "            words.append(word)\n",
    "            words_counts.append(1)\n",
    "            \n",
    "    return words"
   ]
  },
  {
   "cell_type": "code",
   "execution_count": 33,
   "metadata": {},
   "outputs": [],
   "source": [
    "letters = readLetters(angielskiProbka)\n",
    "probability = []\n",
    "for letter in letters:\n",
    "    probability.append(letter / len(angielskiProbka))"
   ]
  },
  {
   "cell_type": "code",
   "execution_count": 34,
   "metadata": {},
   "outputs": [
    {
     "data": {
      "text/plain": [
       "4.288221453845133"
      ]
     },
     "execution_count": 34,
     "metadata": {},
     "output_type": "execute_result"
    }
   ],
   "source": [
    "#entropia znakowa dla próbki języka angielskiego:\n",
    "entropia(probability)"
   ]
  },
  {
   "cell_type": "code",
   "execution_count": 38,
   "metadata": {},
   "outputs": [
    {
     "ename": "ValueError",
     "evalue": "too many values to unpack (expected 2)",
     "output_type": "error",
     "traceback": [
      "\u001b[1;31m---------------------------------------------------------------------------\u001b[0m",
      "\u001b[1;31mValueError\u001b[0m                                Traceback (most recent call last)",
      "\u001b[1;32m<ipython-input-38-3fa6a5aceaf4>\u001b[0m in \u001b[0;36m<module>\u001b[1;34m\u001b[0m\n\u001b[1;32m----> 1\u001b[1;33m \u001b[0mwords\u001b[0m\u001b[1;33m,\u001b[0m \u001b[0mwords_counts\u001b[0m \u001b[1;33m=\u001b[0m \u001b[0mcountWords\u001b[0m\u001b[1;33m(\u001b[0m\u001b[0mangielskiProbka\u001b[0m\u001b[1;33m)\u001b[0m\u001b[1;33m\u001b[0m\u001b[1;33m\u001b[0m\u001b[0m\n\u001b[0m\u001b[0;32m      2\u001b[0m \u001b[0mprobability\u001b[0m \u001b[1;33m=\u001b[0m \u001b[1;33m[\u001b[0m\u001b[1;33m]\u001b[0m\u001b[1;33m\u001b[0m\u001b[1;33m\u001b[0m\u001b[0m\n\u001b[0;32m      3\u001b[0m \u001b[1;32mfor\u001b[0m \u001b[0mword\u001b[0m \u001b[1;32min\u001b[0m \u001b[0mwords\u001b[0m\u001b[1;33m:\u001b[0m\u001b[1;33m\u001b[0m\u001b[1;33m\u001b[0m\u001b[0m\n\u001b[0;32m      4\u001b[0m     \u001b[0mprobability\u001b[0m\u001b[1;33m.\u001b[0m\u001b[0mappend\u001b[0m\u001b[1;33m(\u001b[0m\u001b[0mletter\u001b[0m \u001b[1;33m/\u001b[0m \u001b[0mlen\u001b[0m\u001b[1;33m(\u001b[0m\u001b[0mangielskiProbka\u001b[0m\u001b[1;33m.\u001b[0m\u001b[0msplit\u001b[0m\u001b[1;33m(\u001b[0m\u001b[1;33m)\u001b[0m\u001b[1;33m)\u001b[0m\u001b[1;33m)\u001b[0m\u001b[1;33m\u001b[0m\u001b[1;33m\u001b[0m\u001b[0m\n",
      "\u001b[1;31mValueError\u001b[0m: too many values to unpack (expected 2)"
     ]
    }
   ],
   "source": [
    "words, words_counts = countWords(angielskiProbka)\n",
    "probability = []\n",
    "for word in words:\n",
    "    probability.append(letter / len(angielskiProbka.split()))"
   ]
  },
  {
   "cell_type": "code",
   "execution_count": null,
   "metadata": {},
   "outputs": [],
   "source": [
    "#entropia słowna dla próbki języka angielskiego:\n",
    "entropia(probability)"
   ]
  },
  {
   "cell_type": "code",
   "execution_count": 40,
   "metadata": {},
   "outputs": [
    {
     "name": "stdout",
     "output_type": "stream",
     "text": [
      "99 %\n"
     ]
    },
    {
     "data": {
      "text/plain": [
       "3.5166047989860245"
      ]
     },
     "execution_count": 40,
     "metadata": {},
     "output_type": "execute_result"
    }
   ],
   "source": [
    "#Entropia warunkowa 1 stopnia\n",
    "ngrams, ngrams_counts, chars, chars_counts = dzielenieTekstu(angielskiProbka, 2)\n",
    "ngrams, probability_conditional  = obliczPrawdopodobienstwoWarunkowe(ngrams, ngrams_counts, chars, chars_counts)\n",
    "ngrams, probability = obliczPrawdopodobienstwoWystapieniaNgramu(ngrams, ngrams_counts)\n",
    "entropiaWaruknowa(probability, probability_conditional)"
   ]
  },
  {
   "cell_type": "code",
   "execution_count": 41,
   "metadata": {},
   "outputs": [
    {
     "name": "stdout",
     "output_type": "stream",
     "text": [
      "2 %\n"
     ]
    },
    {
     "ename": "KeyboardInterrupt",
     "evalue": "",
     "output_type": "error",
     "traceback": [
      "\u001b[1;31m---------------------------------------------------------------------------\u001b[0m",
      "\u001b[1;31mKeyboardInterrupt\u001b[0m                         Traceback (most recent call last)",
      "\u001b[1;32m<ipython-input-41-68c7961672f4>\u001b[0m in \u001b[0;36m<module>\u001b[1;34m\u001b[0m\n\u001b[0;32m      1\u001b[0m \u001b[1;31m#Entropia warunkowa 1 stopnia - wyrazy\u001b[0m\u001b[1;33m\u001b[0m\u001b[1;33m\u001b[0m\u001b[1;33m\u001b[0m\u001b[0m\n\u001b[1;32m----> 2\u001b[1;33m \u001b[0mngrams\u001b[0m\u001b[1;33m,\u001b[0m \u001b[0mngrams_counts\u001b[0m\u001b[1;33m,\u001b[0m \u001b[0mchars\u001b[0m\u001b[1;33m,\u001b[0m \u001b[0mchars_counts\u001b[0m \u001b[1;33m=\u001b[0m \u001b[0mdzielenieTekstuWyrazy\u001b[0m\u001b[1;33m(\u001b[0m\u001b[0mangielskiProbka\u001b[0m\u001b[1;33m,\u001b[0m \u001b[1;36m2\u001b[0m\u001b[1;33m)\u001b[0m\u001b[1;33m\u001b[0m\u001b[1;33m\u001b[0m\u001b[0m\n\u001b[0m\u001b[0;32m      3\u001b[0m \u001b[0mngrams\u001b[0m\u001b[1;33m,\u001b[0m \u001b[0mprobability_conditional\u001b[0m  \u001b[1;33m=\u001b[0m \u001b[0mobliczPrawdopodobienstwoWarunkoweWyrazow\u001b[0m\u001b[1;33m(\u001b[0m\u001b[0mngrams\u001b[0m\u001b[1;33m,\u001b[0m \u001b[0mngrams_counts\u001b[0m\u001b[1;33m,\u001b[0m \u001b[0mchars\u001b[0m\u001b[1;33m,\u001b[0m \u001b[0mchars_counts\u001b[0m\u001b[1;33m)\u001b[0m\u001b[1;33m\u001b[0m\u001b[1;33m\u001b[0m\u001b[0m\n\u001b[0;32m      4\u001b[0m \u001b[0mngrams\u001b[0m\u001b[1;33m,\u001b[0m \u001b[0mprobability\u001b[0m \u001b[1;33m=\u001b[0m \u001b[0mobliczPrawdopodobienstwoWystapieniaZdania\u001b[0m\u001b[1;33m(\u001b[0m\u001b[0mngrams\u001b[0m\u001b[1;33m,\u001b[0m \u001b[0mngrams_counts\u001b[0m\u001b[1;33m)\u001b[0m\u001b[1;33m\u001b[0m\u001b[1;33m\u001b[0m\u001b[0m\n\u001b[0;32m      5\u001b[0m \u001b[0mentropiaWaruknowa\u001b[0m\u001b[1;33m(\u001b[0m\u001b[0mprobability\u001b[0m\u001b[1;33m,\u001b[0m \u001b[0mprobability_conditional\u001b[0m\u001b[1;33m)\u001b[0m\u001b[1;33m\u001b[0m\u001b[1;33m\u001b[0m\u001b[0m\n",
      "\u001b[1;32m<ipython-input-27-db2e05343fda>\u001b[0m in \u001b[0;36mdzielenieTekstuWyrazy\u001b[1;34m(tekst, l)\u001b[0m\n\u001b[0;32m     31\u001b[0m                 \u001b[0msentences_counts\u001b[0m\u001b[1;33m[\u001b[0m\u001b[0msentences\u001b[0m\u001b[1;33m.\u001b[0m\u001b[0mindex\u001b[0m\u001b[1;33m(\u001b[0m\u001b[0msentance\u001b[0m\u001b[1;33m)\u001b[0m\u001b[1;33m]\u001b[0m \u001b[1;33m+=\u001b[0m \u001b[1;36m1\u001b[0m\u001b[1;33m\u001b[0m\u001b[1;33m\u001b[0m\u001b[0m\n\u001b[0;32m     32\u001b[0m             \u001b[1;32melse\u001b[0m\u001b[1;33m:\u001b[0m\u001b[1;33m\u001b[0m\u001b[1;33m\u001b[0m\u001b[0m\n\u001b[1;32m---> 33\u001b[1;33m                 \u001b[0msentences\u001b[0m\u001b[1;33m.\u001b[0m\u001b[0mappend\u001b[0m\u001b[1;33m(\u001b[0m\u001b[0msentance\u001b[0m\u001b[1;33m)\u001b[0m\u001b[1;33m\u001b[0m\u001b[1;33m\u001b[0m\u001b[0m\n\u001b[0m\u001b[0;32m     34\u001b[0m                 \u001b[0msentences_counts\u001b[0m\u001b[1;33m.\u001b[0m\u001b[0mappend\u001b[0m\u001b[1;33m(\u001b[0m\u001b[1;36m1\u001b[0m\u001b[1;33m)\u001b[0m\u001b[1;33m\u001b[0m\u001b[1;33m\u001b[0m\u001b[0m\n\u001b[0;32m     35\u001b[0m \u001b[1;33m\u001b[0m\u001b[0m\n",
      "\u001b[1;31mKeyboardInterrupt\u001b[0m: "
     ]
    }
   ],
   "source": [
    "#Entropia warunkowa 1 stopnia - wyrazy\n",
    "ngrams, ngrams_counts, chars, chars_counts = dzielenieTekstuWyrazy(angielskiProbka, 2)\n",
    "ngrams, probability_conditional  = obliczPrawdopodobienstwoWarunkoweWyrazow(ngrams, ngrams_counts, chars, chars_counts)\n",
    "ngrams, probability = obliczPrawdopodobienstwoWystapieniaZdania(ngrams, ngrams_counts)\n",
    "entropiaWaruknowa(probability, probability_conditional)"
   ]
  },
  {
   "cell_type": "code",
   "execution_count": 42,
   "metadata": {},
   "outputs": [
    {
     "name": "stdout",
     "output_type": "stream",
     "text": [
      "99 %\n"
     ]
    },
    {
     "data": {
      "text/plain": [
       "3.0183191907911358"
      ]
     },
     "execution_count": 42,
     "metadata": {},
     "output_type": "execute_result"
    }
   ],
   "source": [
    "#Entropia warunkowa 2 stopnia\n",
    "ngrams, ngrams_counts, chars, chars_counts = dzielenieTekstu(angielskiProbka, 3)\n",
    "ngrams, probability_conditional  = obliczPrawdopodobienstwoWarunkowe(ngrams, ngrams_counts, chars, chars_counts)\n",
    "ngrams, probability = obliczPrawdopodobienstwoWystapieniaNgramu(ngrams, ngrams_counts)\n",
    "entropiaWaruknowa(probability, probability_conditional)"
   ]
  },
  {
   "cell_type": "code",
   "execution_count": null,
   "metadata": {},
   "outputs": [],
   "source": [
    "#Entropia warunkowa 2 stopnia - wyrazy\n",
    "ngrams, ngrams_counts, chars, chars_counts = dzielenieTekstuWyrazy(angielskiProbka, 3)\n",
    "ngrams, probability_conditional  = obliczPrawdopodobienstwoWarunkoweWyrazow(ngrams, ngrams_counts, chars, chars_counts)\n",
    "ngrams, probability = obliczPrawdopodobienstwoWystapieniaZdania(ngrams, ngrams_counts)\n",
    "entropiaWaruknowa(probability, probability_conditional)"
   ]
  },
  {
   "cell_type": "code",
   "execution_count": 43,
   "metadata": {},
   "outputs": [
    {
     "name": "stdout",
     "output_type": "stream",
     "text": [
      "12 %\n"
     ]
    },
    {
     "ename": "KeyboardInterrupt",
     "evalue": "",
     "output_type": "error",
     "traceback": [
      "\u001b[1;31m---------------------------------------------------------------------------\u001b[0m",
      "\u001b[1;31mKeyboardInterrupt\u001b[0m                         Traceback (most recent call last)",
      "\u001b[1;32m<ipython-input-43-3f9e4f5ae8fa>\u001b[0m in \u001b[0;36m<module>\u001b[1;34m\u001b[0m\n\u001b[0;32m      1\u001b[0m \u001b[1;31m#Entropia warunkowa 3 stopnia\u001b[0m\u001b[1;33m\u001b[0m\u001b[1;33m\u001b[0m\u001b[1;33m\u001b[0m\u001b[0m\n\u001b[1;32m----> 2\u001b[1;33m \u001b[0mngrams\u001b[0m\u001b[1;33m,\u001b[0m \u001b[0mngrams_counts\u001b[0m\u001b[1;33m,\u001b[0m \u001b[0mchars\u001b[0m\u001b[1;33m,\u001b[0m \u001b[0mchars_counts\u001b[0m \u001b[1;33m=\u001b[0m \u001b[0mdzielenieTekstu\u001b[0m\u001b[1;33m(\u001b[0m\u001b[0mangielskiProbka\u001b[0m\u001b[1;33m,\u001b[0m \u001b[1;36m4\u001b[0m\u001b[1;33m)\u001b[0m\u001b[1;33m\u001b[0m\u001b[1;33m\u001b[0m\u001b[0m\n\u001b[0m\u001b[0;32m      3\u001b[0m \u001b[0mngrams\u001b[0m\u001b[1;33m,\u001b[0m \u001b[0mprobability_conditional\u001b[0m  \u001b[1;33m=\u001b[0m \u001b[0mobliczPrawdopodobienstwoWarunkowe\u001b[0m\u001b[1;33m(\u001b[0m\u001b[0mngrams\u001b[0m\u001b[1;33m,\u001b[0m \u001b[0mngrams_counts\u001b[0m\u001b[1;33m,\u001b[0m \u001b[0mchars\u001b[0m\u001b[1;33m,\u001b[0m \u001b[0mchars_counts\u001b[0m\u001b[1;33m)\u001b[0m\u001b[1;33m\u001b[0m\u001b[1;33m\u001b[0m\u001b[0m\n\u001b[0;32m      4\u001b[0m \u001b[0mngrams\u001b[0m\u001b[1;33m,\u001b[0m \u001b[0mprobability\u001b[0m \u001b[1;33m=\u001b[0m \u001b[0mobliczPrawdopodobienstwoWystapieniaNgramu\u001b[0m\u001b[1;33m(\u001b[0m\u001b[0mngrams\u001b[0m\u001b[1;33m,\u001b[0m \u001b[0mngrams_counts\u001b[0m\u001b[1;33m)\u001b[0m\u001b[1;33m\u001b[0m\u001b[1;33m\u001b[0m\u001b[0m\n\u001b[0;32m      5\u001b[0m \u001b[0mentropiaWaruknowa\u001b[0m\u001b[1;33m(\u001b[0m\u001b[0mprobability\u001b[0m\u001b[1;33m,\u001b[0m \u001b[0mprobability_conditional\u001b[0m\u001b[1;33m)\u001b[0m\u001b[1;33m\u001b[0m\u001b[1;33m\u001b[0m\u001b[0m\n",
      "\u001b[1;32m<ipython-input-26-179ed3974134>\u001b[0m in \u001b[0;36mdzielenieTekstu\u001b[1;34m(tekst, l)\u001b[0m\n\u001b[0;32m     34\u001b[0m             \u001b[1;31m#print(ngram, char)\u001b[0m\u001b[1;33m\u001b[0m\u001b[1;33m\u001b[0m\u001b[1;33m\u001b[0m\u001b[0m\n\u001b[0;32m     35\u001b[0m             \u001b[1;32mif\u001b[0m \u001b[0mchar\u001b[0m \u001b[1;32min\u001b[0m \u001b[0mchars\u001b[0m\u001b[1;33m:\u001b[0m\u001b[1;33m\u001b[0m\u001b[1;33m\u001b[0m\u001b[0m\n\u001b[1;32m---> 36\u001b[1;33m                 \u001b[0mchars_counts\u001b[0m\u001b[1;33m[\u001b[0m\u001b[0mchars\u001b[0m\u001b[1;33m.\u001b[0m\u001b[0mindex\u001b[0m\u001b[1;33m(\u001b[0m\u001b[0mchar\u001b[0m\u001b[1;33m)\u001b[0m\u001b[1;33m]\u001b[0m \u001b[1;33m+=\u001b[0m \u001b[1;36m1\u001b[0m\u001b[1;33m\u001b[0m\u001b[1;33m\u001b[0m\u001b[0m\n\u001b[0m\u001b[0;32m     37\u001b[0m             \u001b[1;32melse\u001b[0m\u001b[1;33m:\u001b[0m\u001b[1;33m\u001b[0m\u001b[1;33m\u001b[0m\u001b[0m\n\u001b[0;32m     38\u001b[0m                 \u001b[0mchars\u001b[0m\u001b[1;33m.\u001b[0m\u001b[0mappend\u001b[0m\u001b[1;33m(\u001b[0m\u001b[0mchar\u001b[0m\u001b[1;33m)\u001b[0m\u001b[1;33m\u001b[0m\u001b[1;33m\u001b[0m\u001b[0m\n",
      "\u001b[1;31mKeyboardInterrupt\u001b[0m: "
     ]
    }
   ],
   "source": [
    "#Entropia warunkowa 3 stopnia\n",
    "ngrams, ngrams_counts, chars, chars_counts = dzielenieTekstu(angielskiProbka, 4)\n",
    "ngrams, probability_conditional  = obliczPrawdopodobienstwoWarunkowe(ngrams, ngrams_counts, chars, chars_counts)\n",
    "ngrams, probability = obliczPrawdopodobienstwoWystapieniaNgramu(ngrams, ngrams_counts)\n",
    "entropiaWaruknowa(probability, probability_conditional)"
   ]
  },
  {
   "cell_type": "code",
   "execution_count": null,
   "metadata": {},
   "outputs": [],
   "source": [
    "#Entropia warunkowa 2 stopnia - wyrazy\n",
    "ngrams, ngrams_counts, chars, chars_counts = dzielenieTekstuWyrazy(angielskiProbka, 4)\n",
    "ngrams, probability_conditional  = obliczPrawdopodobienstwoWarunkoweWyrazow(ngrams, ngrams_counts, chars, chars_counts)\n",
    "ngrams, probability = obliczPrawdopodobienstwoWystapieniaZdania(ngrams, ngrams_counts)\n",
    "entropiaWaruknowa(probability, probability_conditional)"
   ]
  },
  {
   "cell_type": "code",
   "execution_count": null,
   "metadata": {},
   "outputs": [],
   "source": []
  },
  {
   "cell_type": "code",
   "execution_count": null,
   "metadata": {},
   "outputs": [],
   "source": [
    "la = readFile(\"norm_wiki_la.txt\")"
   ]
  },
  {
   "cell_type": "code",
   "execution_count": null,
   "metadata": {},
   "outputs": [],
   "source": [
    "letters = readLetters(la)\n",
    "probability = []\n",
    "for letter in letters:\n",
    "    probability.append(letter / len(la))\n",
    "#entropia znakowa dla próbki języka łacińskiego:\n",
    "entropia(probability)"
   ]
  },
  {
   "cell_type": "code",
   "execution_count": null,
   "metadata": {},
   "outputs": [],
   "source": [
    "words, words_counts = countWords(la)\n",
    "probability = []\n",
    "for word in words:\n",
    "    probability.append(letter / len(la.split()))\n",
    "#entropia słowna dla próbki języka łacińskiego:\n",
    "entropia(probability)"
   ]
  },
  {
   "cell_type": "code",
   "execution_count": null,
   "metadata": {},
   "outputs": [],
   "source": [
    "#Entropia warunkowa 1 stopnia\n",
    "ngrams, ngrams_counts, chars, chars_counts = dzielenieTekstu(la, 2)\n",
    "ngrams, probability_conditional  = obliczPrawdopodobienstwoWarunkowe(ngrams, ngrams_counts, chars, chars_counts)\n",
    "ngrams, probability = obliczPrawdopodobienstwoWystapieniaNgramu(ngrams, ngrams_counts)\n",
    "entropiaWaruknowa(probability, probability_conditional)"
   ]
  },
  {
   "cell_type": "code",
   "execution_count": null,
   "metadata": {},
   "outputs": [],
   "source": [
    "#Entropia warunkowa 1 stopnia - wyrazy\n",
    "ngrams, ngrams_counts, chars, chars_counts = dzielenieTekstuWyrazy(la, 2)\n",
    "ngrams, probability_conditional  = obliczPrawdopodobienstwoWarunkoweWyrazow(ngrams, ngrams_counts, chars, chars_counts)\n",
    "ngrams, probability = obliczPrawdopodobienstwoWystapieniaZdania(ngrams, ngrams_counts)\n",
    "entropiaWaruknowa(probability, probability_conditional)"
   ]
  },
  {
   "cell_type": "code",
   "execution_count": null,
   "metadata": {},
   "outputs": [],
   "source": [
    "#Entropia warunkowa 2 stopnia\n",
    "ngrams, ngrams_counts, chars, chars_counts = dzielenieTekstu(la, 3)\n",
    "ngrams, probability_conditional  = obliczPrawdopodobienstwoWarunkowe(ngrams, ngrams_counts, chars, chars_counts)\n",
    "ngrams, probability = obliczPrawdopodobienstwoWystapieniaNgramu(ngrams, ngrams_counts)\n",
    "entropiaWaruknowa(probability, probability_conditional)"
   ]
  },
  {
   "cell_type": "code",
   "execution_count": null,
   "metadata": {},
   "outputs": [],
   "source": [
    "#Entropia warunkowa 2 stopnia - wyrazy\n",
    "ngrams, ngrams_counts, chars, chars_counts = dzielenieTekstuWyrazy(la, 3)\n",
    "ngrams, probability_conditional  = obliczPrawdopodobienstwoWarunkoweWyrazow(ngrams, ngrams_counts, chars, chars_counts)\n",
    "ngrams, probability = obliczPrawdopodobienstwoWystapieniaZdania(ngrams, ngrams_counts)\n",
    "entropiaWaruknowa(probability, probability_conditional)"
   ]
  },
  {
   "cell_type": "code",
   "execution_count": null,
   "metadata": {},
   "outputs": [],
   "source": [
    "#Entropia warunkowa 3 stopnia\n",
    "ngrams, ngrams_counts, chars, chars_counts = dzielenieTekstu(la, 4)\n",
    "ngrams, probability_conditional  = obliczPrawdopodobienstwoWarunkowe(ngrams, ngrams_counts, chars, chars_counts)\n",
    "ngrams, probability = obliczPrawdopodobienstwoWystapieniaNgramu(ngrams, ngrams_counts)\n",
    "entropiaWaruknowa(probability, probability_conditional)"
   ]
  },
  {
   "cell_type": "code",
   "execution_count": null,
   "metadata": {},
   "outputs": [],
   "source": [
    "#Entropia warunkowa 3 stopnia - wyrazy\n",
    "ngrams, ngrams_counts, chars, chars_counts = dzielenieTekstuWyrazy(la, 4)\n",
    "ngrams, probability_conditional  = obliczPrawdopodobienstwoWarunkoweWyrazow(ngrams, ngrams_counts, chars, chars_counts)\n",
    "ngrams, probability = obliczPrawdopodobienstwoWystapieniaZdania(ngrams, ngrams_counts)\n",
    "entropiaWaruknowa(probability, probability_conditional)"
   ]
  },
  {
   "cell_type": "code",
   "execution_count": null,
   "metadata": {},
   "outputs": [],
   "source": []
  },
  {
   "cell_type": "code",
   "execution_count": null,
   "metadata": {},
   "outputs": [],
   "source": [
    "s1 = readFile(\"sample0.txt\")"
   ]
  },
  {
   "cell_type": "code",
   "execution_count": null,
   "metadata": {},
   "outputs": [],
   "source": [
    "letters = readLetters(s1)\n",
    "probability = []\n",
    "for letter in letters:\n",
    "    probability.append(letter / len(s1))\n",
    "#entropia znakowa dla próbki języka łacińskiego:\n",
    "entropia(probability)"
   ]
  },
  {
   "cell_type": "code",
   "execution_count": null,
   "metadata": {},
   "outputs": [],
   "source": [
    "words, words_counts = countWords(s1)\n",
    "probability = []\n",
    "for word in words:\n",
    "    probability.append(letter / len(s1.split()))\n",
    "#entropia słowna dla próbki języka łacińskiego:\n",
    "entropia(probability)"
   ]
  },
  {
   "cell_type": "code",
   "execution_count": null,
   "metadata": {},
   "outputs": [],
   "source": [
    "#Entropia warunkowa 1 stopnia\n",
    "ngrams, ngrams_counts, chars, chars_counts = dzielenieTekstu(s1, 2)\n",
    "ngrams, probability_conditional  = obliczPrawdopodobienstwoWarunkowe(ngrams, ngrams_counts, chars, chars_counts)\n",
    "ngrams, probability = obliczPrawdopodobienstwoWystapieniaNgramu(ngrams, ngrams_counts)\n",
    "entropiaWaruknowa(probability, probability_conditional)"
   ]
  },
  {
   "cell_type": "code",
   "execution_count": null,
   "metadata": {},
   "outputs": [],
   "source": [
    "#Entropia warunkowa 1 stopnia - wyrazy\n",
    "ngrams, ngrams_counts, chars, chars_counts = dzielenieTekstuWyrazy(s1, 2)\n",
    "ngrams, probability_conditional  = obliczPrawdopodobienstwoWarunkoweWyrazow(ngrams, ngrams_counts, chars, chars_counts)\n",
    "ngrams, probability = obliczPrawdopodobienstwoWystapieniaZdania(ngrams, ngrams_counts)\n",
    "entropiaWaruknowa(probability, probability_conditional)"
   ]
  },
  {
   "cell_type": "code",
   "execution_count": null,
   "metadata": {},
   "outputs": [],
   "source": [
    "#Entropia warunkowa 2 stopnia\n",
    "ngrams, ngrams_counts, chars, chars_counts = dzielenieTekstu(s1, 3)\n",
    "ngrams, probability_conditional  = obliczPrawdopodobienstwoWarunkowe(ngrams, ngrams_counts, chars, chars_counts)\n",
    "ngrams, probability = obliczPrawdopodobienstwoWystapieniaNgramu(ngrams, ngrams_counts)\n",
    "entropiaWaruknowa(probability, probability_conditional)"
   ]
  },
  {
   "cell_type": "code",
   "execution_count": null,
   "metadata": {},
   "outputs": [],
   "source": [
    "#Entropia warunkowa 2 stopnia - wyrazy\n",
    "ngrams, ngrams_counts, chars, chars_counts = dzielenieTekstuWyrazy(s1, 3)\n",
    "ngrams, probability_conditional  = obliczPrawdopodobienstwoWarunkoweWyrazow(ngrams, ngrams_counts, chars, chars_counts)\n",
    "ngrams, probability = obliczPrawdopodobienstwoWystapieniaZdania(ngrams, ngrams_counts)\n",
    "entropiaWaruknowa(probability, probability_conditional)"
   ]
  },
  {
   "cell_type": "code",
   "execution_count": null,
   "metadata": {},
   "outputs": [],
   "source": [
    "#Entropia warunkowa 3 stopnia\n",
    "ngrams, ngrams_counts, chars, chars_counts = dzielenieTekstu(s1, 4)\n",
    "ngrams, probability_conditional  = obliczPrawdopodobienstwoWarunkowe(ngrams, ngrams_counts, chars, chars_counts)\n",
    "ngrams, probability = obliczPrawdopodobienstwoWystapieniaNgramu(ngrams, ngrams_counts)\n",
    "entropiaWaruknowa(probability, probability_conditional)"
   ]
  },
  {
   "cell_type": "code",
   "execution_count": null,
   "metadata": {},
   "outputs": [],
   "source": [
    "#Entropia warunkowa 3 stopnia - wyrazy\n",
    "ngrams, ngrams_counts, chars, chars_counts = dzielenieTekstuWyrazy(s1, 4)\n",
    "ngrams, probability_conditional  = obliczPrawdopodobienstwoWarunkoweWyrazow(ngrams, ngrams_counts, chars, chars_counts)\n",
    "ngrams, probability = obliczPrawdopodobienstwoWystapieniaZdania(ngrams, ngrams_counts)\n",
    "entropiaWaruknowa(probability, probability_conditional)"
   ]
  },
  {
   "cell_type": "code",
   "execution_count": null,
   "metadata": {},
   "outputs": [],
   "source": []
  },
  {
   "cell_type": "code",
   "execution_count": null,
   "metadata": {},
   "outputs": [],
   "source": []
  },
  {
   "cell_type": "code",
   "execution_count": null,
   "metadata": {},
   "outputs": [],
   "source": [
    "s1 = readFile(\"sample1.txt\")"
   ]
  },
  {
   "cell_type": "code",
   "execution_count": null,
   "metadata": {},
   "outputs": [],
   "source": [
    "letters = readLetters(s1)\n",
    "probability = []\n",
    "for letter in letters:\n",
    "    probability.append(letter / len(s1))\n",
    "#entropia znakowa dla próbki języka łacińskiego:\n",
    "entropia(probability)"
   ]
  },
  {
   "cell_type": "code",
   "execution_count": null,
   "metadata": {},
   "outputs": [],
   "source": [
    "words, words_counts = countWords(s1)\n",
    "probability = []\n",
    "for word in words:\n",
    "    probability.append(letter / len(s1.split()))\n",
    "#entropia słowna dla próbki języka łacińskiego:\n",
    "entropia(probability)"
   ]
  },
  {
   "cell_type": "code",
   "execution_count": null,
   "metadata": {},
   "outputs": [],
   "source": [
    "#Entropia warunkowa 1 stopnia\n",
    "ngrams, ngrams_counts, chars, chars_counts = dzielenieTekstu(s1, 2)\n",
    "ngrams, probability_conditional  = obliczPrawdopodobienstwoWarunkowe(ngrams, ngrams_counts, chars, chars_counts)\n",
    "ngrams, probability = obliczPrawdopodobienstwoWystapieniaNgramu(ngrams, ngrams_counts)\n",
    "entropiaWaruknowa(probability, probability_conditional)"
   ]
  },
  {
   "cell_type": "code",
   "execution_count": null,
   "metadata": {},
   "outputs": [],
   "source": [
    "#Entropia warunkowa 1 stopnia - wyrazy\n",
    "ngrams, ngrams_counts, chars, chars_counts = dzielenieTekstuWyrazy(s1, 2)\n",
    "ngrams, probability_conditional  = obliczPrawdopodobienstwoWarunkoweWyrazow(ngrams, ngrams_counts, chars, chars_counts)\n",
    "ngrams, probability = obliczPrawdopodobienstwoWystapieniaZdania(ngrams, ngrams_counts)\n",
    "entropiaWaruknowa(probability, probability_conditional)"
   ]
  },
  {
   "cell_type": "code",
   "execution_count": null,
   "metadata": {},
   "outputs": [],
   "source": [
    "#Entropia warunkowa 2 stopnia\n",
    "ngrams, ngrams_counts, chars, chars_counts = dzielenieTekstu(s1, 3)\n",
    "ngrams, probability_conditional  = obliczPrawdopodobienstwoWarunkowe(ngrams, ngrams_counts, chars, chars_counts)\n",
    "ngrams, probability = obliczPrawdopodobienstwoWystapieniaNgramu(ngrams, ngrams_counts)\n",
    "entropiaWaruknowa(probability, probability_conditional)"
   ]
  },
  {
   "cell_type": "code",
   "execution_count": null,
   "metadata": {},
   "outputs": [],
   "source": [
    "#Entropia warunkowa 2 stopnia - wyrazy\n",
    "ngrams, ngrams_counts, chars, chars_counts = dzielenieTekstuWyrazy(s1, 3)\n",
    "ngrams, probability_conditional  = obliczPrawdopodobienstwoWarunkoweWyrazow(ngrams, ngrams_counts, chars, chars_counts)\n",
    "ngrams, probability = obliczPrawdopodobienstwoWystapieniaZdania(ngrams, ngrams_counts)\n",
    "entropiaWaruknowa(probability, probability_conditional)"
   ]
  },
  {
   "cell_type": "code",
   "execution_count": null,
   "metadata": {},
   "outputs": [],
   "source": [
    "#Entropia warunkowa 3 stopnia\n",
    "ngrams, ngrams_counts, chars, chars_counts = dzielenieTekstu(s1, 4)\n",
    "ngrams, probability_conditional  = obliczPrawdopodobienstwoWarunkowe(ngrams, ngrams_counts, chars, chars_counts)\n",
    "ngrams, probability = obliczPrawdopodobienstwoWystapieniaNgramu(ngrams, ngrams_counts)\n",
    "entropiaWaruknowa(probability, probability_conditional)"
   ]
  },
  {
   "cell_type": "code",
   "execution_count": null,
   "metadata": {},
   "outputs": [],
   "source": [
    "#Entropia warunkowa 2 stopnia - wyrazy\n",
    "ngrams, ngrams_counts, chars, chars_counts = dzielenieTekstuWyrazy(s1, 4)\n",
    "ngrams, probability_conditional  = obliczPrawdopodobienstwoWarunkoweWyrazow(ngrams, ngrams_counts, chars, chars_counts)\n",
    "ngrams, probability = obliczPrawdopodobienstwoWystapieniaZdania(ngrams, ngrams_counts)\n",
    "entropiaWaruknowa(probability, probability_conditional)"
   ]
  },
  {
   "cell_type": "code",
   "execution_count": null,
   "metadata": {},
   "outputs": [],
   "source": []
  },
  {
   "cell_type": "code",
   "execution_count": null,
   "metadata": {},
   "outputs": [],
   "source": []
  },
  {
   "cell_type": "code",
   "execution_count": null,
   "metadata": {},
   "outputs": [],
   "source": [
    "s1 = readFile(\"sample2.txt\")"
   ]
  },
  {
   "cell_type": "code",
   "execution_count": null,
   "metadata": {},
   "outputs": [],
   "source": [
    "letters = readLetters(s1)\n",
    "probability = []\n",
    "for letter in letters:\n",
    "    probability.append(letter / len(s1))\n",
    "#entropia znakowa dla próbki języka łacińskiego:\n",
    "entropia(probability)"
   ]
  },
  {
   "cell_type": "code",
   "execution_count": null,
   "metadata": {},
   "outputs": [],
   "source": [
    "words, words_counts = countWords(s1)\n",
    "probability = []\n",
    "for word in words:\n",
    "    probability.append(letter / len(s1.split()))\n",
    "#entropia słowna dla próbki języka łacińskiego:\n",
    "entropia(probability)"
   ]
  },
  {
   "cell_type": "code",
   "execution_count": null,
   "metadata": {},
   "outputs": [],
   "source": [
    "#Entropia warunkowa 1 stopnia\n",
    "ngrams, ngrams_counts, chars, chars_counts = dzielenieTekstu(s1, 2)\n",
    "ngrams, probability_conditional  = obliczPrawdopodobienstwoWarunkowe(ngrams, ngrams_counts, chars, chars_counts)\n",
    "ngrams, probability = obliczPrawdopodobienstwoWystapieniaNgramu(ngrams, ngrams_counts)\n",
    "entropiaWaruknowa(probability, probability_conditional)"
   ]
  },
  {
   "cell_type": "code",
   "execution_count": null,
   "metadata": {},
   "outputs": [],
   "source": [
    "#Entropia warunkowa 1 stopnia - wyrazy\n",
    "ngrams, ngrams_counts, chars, chars_counts = dzielenieTekstuWyrazy(s1, 2)\n",
    "ngrams, probability_conditional  = obliczPrawdopodobienstwoWarunkoweWyrazow(ngrams, ngrams_counts, chars, chars_counts)\n",
    "ngrams, probability = obliczPrawdopodobienstwoWystapieniaZdania(ngrams, ngrams_counts)\n",
    "entropiaWaruknowa(probability, probability_conditional)"
   ]
  },
  {
   "cell_type": "code",
   "execution_count": null,
   "metadata": {},
   "outputs": [],
   "source": [
    "#Entropia warunkowa 2 stopnia\n",
    "ngrams, ngrams_counts, chars, chars_counts = dzielenieTekstu(s1, 3)\n",
    "ngrams, probability_conditional  = obliczPrawdopodobienstwoWarunkowe(ngrams, ngrams_counts, chars, chars_counts)\n",
    "ngrams, probability = obliczPrawdopodobienstwoWystapieniaNgramu(ngrams, ngrams_counts)\n",
    "entropiaWaruknowa(probability, probability_conditional)"
   ]
  },
  {
   "cell_type": "code",
   "execution_count": null,
   "metadata": {},
   "outputs": [],
   "source": [
    "#Entropia warunkowa 2 stopnia - wyrazy\n",
    "ngrams, ngrams_counts, chars, chars_counts = dzielenieTekstuWyrazy(s1, 3)\n",
    "ngrams, probability_conditional  = obliczPrawdopodobienstwoWarunkoweWyrazow(ngrams, ngrams_counts, chars, chars_counts)\n",
    "ngrams, probability = obliczPrawdopodobienstwoWystapieniaZdania(ngrams, ngrams_counts)\n",
    "entropiaWaruknowa(probability, probability_conditional)"
   ]
  },
  {
   "cell_type": "code",
   "execution_count": null,
   "metadata": {},
   "outputs": [],
   "source": [
    "#Entropia warunkowa 3 stopnia\n",
    "ngrams, ngrams_counts, chars, chars_counts = dzielenieTekstu(s1, 4)\n",
    "ngrams, probability_conditional  = obliczPrawdopodobienstwoWarunkowe(ngrams, ngrams_counts, chars, chars_counts)\n",
    "ngrams, probability = obliczPrawdopodobienstwoWystapieniaNgramu(ngrams, ngrams_counts)\n",
    "entropiaWaruknowa(probability, probability_conditional)"
   ]
  },
  {
   "cell_type": "code",
   "execution_count": null,
   "metadata": {},
   "outputs": [],
   "source": [
    "#Entropia warunkowa 2 stopnia - wyrazy\n",
    "ngrams, ngrams_counts, chars, chars_counts = dzielenieTekstuWyrazy(s1, 4)\n",
    "ngrams, probability_conditional  = obliczPrawdopodobienstwoWarunkoweWyrazow(ngrams, ngrams_counts, chars, chars_counts)\n",
    "ngrams, probability = obliczPrawdopodobienstwoWystapieniaZdania(ngrams, ngrams_counts)\n",
    "entropiaWaruknowa(probability, probability_conditional)"
   ]
  },
  {
   "cell_type": "code",
   "execution_count": null,
   "metadata": {},
   "outputs": [],
   "source": []
  },
  {
   "cell_type": "code",
   "execution_count": null,
   "metadata": {},
   "outputs": [],
   "source": [
    "s1 = readFile(\"sample3.txt\")"
   ]
  },
  {
   "cell_type": "code",
   "execution_count": null,
   "metadata": {},
   "outputs": [],
   "source": [
    "letters = readLetters(s1)\n",
    "probability = []\n",
    "for letter in letters:\n",
    "    probability.append(letter / len(s1))\n",
    "#entropia znakowa dla próbki języka łacińskiego:\n",
    "entropia(probability)"
   ]
  },
  {
   "cell_type": "code",
   "execution_count": null,
   "metadata": {},
   "outputs": [],
   "source": [
    "words, words_counts = countWords(s1)\n",
    "probability = []\n",
    "for word in words:\n",
    "    probability.append(letter / len(s1.split()))\n",
    "#entropia słowna dla próbki języka łacińskiego:\n",
    "entropia(probability)"
   ]
  },
  {
   "cell_type": "code",
   "execution_count": null,
   "metadata": {},
   "outputs": [],
   "source": [
    "#Entropia warunkowa 1 stopnia\n",
    "ngrams, ngrams_counts, chars, chars_counts = dzielenieTekstu(s1, 2)\n",
    "ngrams, probability_conditional  = obliczPrawdopodobienstwoWarunkowe(ngrams, ngrams_counts, chars, chars_counts)\n",
    "ngrams, probability = obliczPrawdopodobienstwoWystapieniaNgramu(ngrams, ngrams_counts)\n",
    "entropiaWaruknowa(probability, probability_conditional)"
   ]
  },
  {
   "cell_type": "code",
   "execution_count": null,
   "metadata": {},
   "outputs": [],
   "source": [
    "#Entropia warunkowa 1 stopnia - wyrazy\n",
    "ngrams, ngrams_counts, chars, chars_counts = dzielenieTekstuWyrazy(s1, 2)\n",
    "ngrams, probability_conditional  = obliczPrawdopodobienstwoWarunkoweWyrazow(ngrams, ngrams_counts, chars, chars_counts)\n",
    "ngrams, probability = obliczPrawdopodobienstwoWystapieniaZdania(ngrams, ngrams_counts)\n",
    "entropiaWaruknowa(probability, probability_conditional)"
   ]
  },
  {
   "cell_type": "code",
   "execution_count": null,
   "metadata": {},
   "outputs": [],
   "source": [
    "#Entropia warunkowa 2 stopnia\n",
    "ngrams, ngrams_counts, chars, chars_counts = dzielenieTekstu(s1, 3)\n",
    "ngrams, probability_conditional  = obliczPrawdopodobienstwoWarunkowe(ngrams, ngrams_counts, chars, chars_counts)\n",
    "ngrams, probability = obliczPrawdopodobienstwoWystapieniaNgramu(ngrams, ngrams_counts)\n",
    "entropiaWaruknowa(probability, probability_conditional)"
   ]
  },
  {
   "cell_type": "code",
   "execution_count": null,
   "metadata": {},
   "outputs": [],
   "source": [
    "#Entropia warunkowa 2 stopnia - wyrazy\n",
    "ngrams, ngrams_counts, chars, chars_counts = dzielenieTekstuWyrazy(s1, 3)\n",
    "ngrams, probability_conditional  = obliczPrawdopodobienstwoWarunkoweWyrazow(ngrams, ngrams_counts, chars, chars_counts)\n",
    "ngrams, probability = obliczPrawdopodobienstwoWystapieniaZdania(ngrams, ngrams_counts)\n",
    "entropiaWaruknowa(probability, probability_conditional)"
   ]
  },
  {
   "cell_type": "code",
   "execution_count": null,
   "metadata": {},
   "outputs": [],
   "source": [
    "#Entropia warunkowa 3 stopnia\n",
    "ngrams, ngrams_counts, chars, chars_counts = dzielenieTekstu(s1, 4)\n",
    "ngrams, probability_conditional  = obliczPrawdopodobienstwoWarunkowe(ngrams, ngrams_counts, chars, chars_counts)\n",
    "ngrams, probability = obliczPrawdopodobienstwoWystapieniaNgramu(ngrams, ngrams_counts)\n",
    "entropiaWaruknowa(probability, probability_conditional)"
   ]
  },
  {
   "cell_type": "code",
   "execution_count": null,
   "metadata": {},
   "outputs": [],
   "source": [
    "#Entropia warunkowa 2 stopnia - wyrazy\n",
    "ngrams, ngrams_counts, chars, chars_counts = dzielenieTekstuWyrazy(s1, 4)\n",
    "ngrams, probability_conditional  = obliczPrawdopodobienstwoWarunkoweWyrazow(ngrams, ngrams_counts, chars, chars_counts)\n",
    "ngrams, probability = obliczPrawdopodobienstwoWystapieniaZdania(ngrams, ngrams_counts)\n",
    "entropiaWaruknowa(probability, probability_conditional)"
   ]
  },
  {
   "cell_type": "code",
   "execution_count": null,
   "metadata": {},
   "outputs": [],
   "source": []
  },
  {
   "cell_type": "code",
   "execution_count": null,
   "metadata": {},
   "outputs": [],
   "source": [
    "s1 = readFile(\"sample4.txt\")"
   ]
  },
  {
   "cell_type": "code",
   "execution_count": null,
   "metadata": {},
   "outputs": [],
   "source": [
    "letters = readLetters(s1)\n",
    "probability = []\n",
    "for letter in letters:\n",
    "    probability.append(letter / len(s1))\n",
    "#entropia znakowa dla próbki języka łacińskiego:\n",
    "entropia(probability)"
   ]
  },
  {
   "cell_type": "code",
   "execution_count": null,
   "metadata": {},
   "outputs": [],
   "source": [
    "words, words_counts = countWords(s1)\n",
    "probability = []\n",
    "for word in words:\n",
    "    probability.append(letter / len(s1.split()))\n",
    "#entropia słowna dla próbki języka łacińskiego:\n",
    "entropia(probability)"
   ]
  },
  {
   "cell_type": "code",
   "execution_count": null,
   "metadata": {},
   "outputs": [],
   "source": [
    "#Entropia warunkowa 1 stopnia\n",
    "ngrams, ngrams_counts, chars, chars_counts = dzielenieTekstu(s1, 2)\n",
    "ngrams, probability_conditional  = obliczPrawdopodobienstwoWarunkowe(ngrams, ngrams_counts, chars, chars_counts)\n",
    "ngrams, probability = obliczPrawdopodobienstwoWystapieniaNgramu(ngrams, ngrams_counts)\n",
    "entropiaWaruknowa(probability, probability_conditional)"
   ]
  },
  {
   "cell_type": "code",
   "execution_count": null,
   "metadata": {},
   "outputs": [],
   "source": [
    "#Entropia warunkowa 1 stopnia - wyrazy\n",
    "ngrams, ngrams_counts, chars, chars_counts = dzielenieTekstuWyrazy(s1, 2)\n",
    "ngrams, probability_conditional  = obliczPrawdopodobienstwoWarunkoweWyrazow(ngrams, ngrams_counts, chars, chars_counts)\n",
    "ngrams, probability = obliczPrawdopodobienstwoWystapieniaZdania(ngrams, ngrams_counts)\n",
    "entropiaWaruknowa(probability, probability_conditional)"
   ]
  },
  {
   "cell_type": "code",
   "execution_count": null,
   "metadata": {},
   "outputs": [],
   "source": [
    "#Entropia warunkowa 2 stopnia\n",
    "ngrams, ngrams_counts, chars, chars_counts = dzielenieTekstu(s1, 3)\n",
    "ngrams, probability_conditional  = obliczPrawdopodobienstwoWarunkowe(ngrams, ngrams_counts, chars, chars_counts)\n",
    "ngrams, probability = obliczPrawdopodobienstwoWystapieniaNgramu(ngrams, ngrams_counts)\n",
    "entropiaWaruknowa(probability, probability_conditional)"
   ]
  },
  {
   "cell_type": "code",
   "execution_count": null,
   "metadata": {},
   "outputs": [],
   "source": [
    "#Entropia warunkowa 2 stopnia - wyrazy\n",
    "ngrams, ngrams_counts, chars, chars_counts = dzielenieTekstuWyrazy(s1, 3)\n",
    "ngrams, probability_conditional  = obliczPrawdopodobienstwoWarunkoweWyrazow(ngrams, ngrams_counts, chars, chars_counts)\n",
    "ngrams, probability = obliczPrawdopodobienstwoWystapieniaZdania(ngrams, ngrams_counts)\n",
    "entropiaWaruknowa(probability, probability_conditional)"
   ]
  },
  {
   "cell_type": "code",
   "execution_count": null,
   "metadata": {},
   "outputs": [],
   "source": [
    "#Entropia warunkowa 3 stopnia\n",
    "ngrams, ngrams_counts, chars, chars_counts = dzielenieTekstu(s1, 4)\n",
    "ngrams, probability_conditional  = obliczPrawdopodobienstwoWarunkowe(ngrams, ngrams_counts, chars, chars_counts)\n",
    "ngrams, probability = obliczPrawdopodobienstwoWystapieniaNgramu(ngrams, ngrams_counts)\n",
    "entropiaWaruknowa(probability, probability_conditional)"
   ]
  },
  {
   "cell_type": "code",
   "execution_count": null,
   "metadata": {},
   "outputs": [],
   "source": [
    "#Entropia warunkowa 2 stopnia - wyrazy\n",
    "ngrams, ngrams_counts, chars, chars_counts = dzielenieTekstuWyrazy(s1, 4)\n",
    "ngrams, probability_conditional  = obliczPrawdopodobienstwoWarunkoweWyrazow(ngrams, ngrams_counts, chars, chars_counts)\n",
    "ngrams, probability = obliczPrawdopodobienstwoWystapieniaZdania(ngrams, ngrams_counts)\n",
    "entropiaWaruknowa(probability, probability_conditional)"
   ]
  },
  {
   "cell_type": "code",
   "execution_count": null,
   "metadata": {},
   "outputs": [],
   "source": []
  },
  {
   "cell_type": "code",
   "execution_count": null,
   "metadata": {},
   "outputs": [],
   "source": [
    "s1 = readFile(\"sample5.txt\")"
   ]
  },
  {
   "cell_type": "code",
   "execution_count": null,
   "metadata": {},
   "outputs": [],
   "source": [
    "letters = readLetters(s1)\n",
    "probability = []\n",
    "for letter in letters:\n",
    "    probability.append(letter / len(s1))\n",
    "#entropia znakowa dla próbki języka łacińskiego:\n",
    "entropia(probability)"
   ]
  },
  {
   "cell_type": "code",
   "execution_count": null,
   "metadata": {},
   "outputs": [],
   "source": [
    "words, words_counts = countWords(s1)\n",
    "probability = []\n",
    "for word in words:\n",
    "    probability.append(letter / len(s1.split()))\n",
    "#entropia słowna dla próbki języka łacińskiego:\n",
    "entropia(probability)"
   ]
  },
  {
   "cell_type": "code",
   "execution_count": null,
   "metadata": {},
   "outputs": [],
   "source": [
    "#Entropia warunkowa 1 stopnia\n",
    "ngrams, ngrams_counts, chars, chars_counts = dzielenieTekstu(s1, 2)\n",
    "ngrams, probability_conditional  = obliczPrawdopodobienstwoWarunkowe(ngrams, ngrams_counts, chars, chars_counts)\n",
    "ngrams, probability = obliczPrawdopodobienstwoWystapieniaNgramu(ngrams, ngrams_counts)\n",
    "entropiaWaruknowa(probability, probability_conditional)"
   ]
  },
  {
   "cell_type": "code",
   "execution_count": null,
   "metadata": {},
   "outputs": [],
   "source": [
    "#Entropia warunkowa 1 stopnia - wyrazy\n",
    "ngrams, ngrams_counts, chars, chars_counts = dzielenieTekstuWyrazy(s1, 2)\n",
    "ngrams, probability_conditional  = obliczPrawdopodobienstwoWarunkoweWyrazow(ngrams, ngrams_counts, chars, chars_counts)\n",
    "ngrams, probability = obliczPrawdopodobienstwoWystapieniaZdania(ngrams, ngrams_counts)\n",
    "entropiaWaruknowa(probability, probability_conditional)"
   ]
  },
  {
   "cell_type": "code",
   "execution_count": null,
   "metadata": {},
   "outputs": [],
   "source": [
    "#Entropia warunkowa 2 stopnia\n",
    "ngrams, ngrams_counts, chars, chars_counts = dzielenieTekstu(s1, 3)\n",
    "ngrams, probability_conditional  = obliczPrawdopodobienstwoWarunkowe(ngrams, ngrams_counts, chars, chars_counts)\n",
    "ngrams, probability = obliczPrawdopodobienstwoWystapieniaNgramu(ngrams, ngrams_counts)\n",
    "entropiaWaruknowa(probability, probability_conditional)"
   ]
  },
  {
   "cell_type": "code",
   "execution_count": null,
   "metadata": {},
   "outputs": [],
   "source": [
    "#Entropia warunkowa 2 stopnia - wyrazy\n",
    "ngrams, ngrams_counts, chars, chars_counts = dzielenieTekstuWyrazy(s1, 3)\n",
    "ngrams, probability_conditional  = obliczPrawdopodobienstwoWarunkoweWyrazow(ngrams, ngrams_counts, chars, chars_counts)\n",
    "ngrams, probability = obliczPrawdopodobienstwoWystapieniaZdania(ngrams, ngrams_counts)\n",
    "entropiaWaruknowa(probability, probability_conditional)"
   ]
  },
  {
   "cell_type": "code",
   "execution_count": null,
   "metadata": {},
   "outputs": [],
   "source": [
    "#Entropia warunkowa 3 stopnia\n",
    "ngrams, ngrams_counts, chars, chars_counts = dzielenieTekstu(s1, 4)\n",
    "ngrams, probability_conditional  = obliczPrawdopodobienstwoWarunkowe(ngrams, ngrams_counts, chars, chars_counts)\n",
    "ngrams, probability = obliczPrawdopodobienstwoWystapieniaNgramu(ngrams, ngrams_counts)\n",
    "entropiaWaruknowa(probability, probability_conditional)"
   ]
  },
  {
   "cell_type": "code",
   "execution_count": null,
   "metadata": {},
   "outputs": [],
   "source": [
    "#Entropia warunkowa 2 stopnia - wyrazy\n",
    "ngrams, ngrams_counts, chars, chars_counts = dzielenieTekstuWyrazy(s1, 4)\n",
    "ngrams, probability_conditional  = obliczPrawdopodobienstwoWarunkoweWyrazow(ngrams, ngrams_counts, chars, chars_counts)\n",
    "ngrams, probability = obliczPrawdopodobienstwoWystapieniaZdania(ngrams, ngrams_counts)\n",
    "entropiaWaruknowa(probability, probability_conditional)"
   ]
  },
  {
   "cell_type": "code",
   "execution_count": null,
   "metadata": {},
   "outputs": [],
   "source": []
  },
  {
   "cell_type": "code",
   "execution_count": null,
   "metadata": {},
   "outputs": [],
   "source": []
  }
 ],
 "metadata": {
  "anaconda-cloud": {},
  "kernelspec": {
   "display_name": "Python 3",
   "language": "python",
   "name": "python3"
  },
  "language_info": {
   "codemirror_mode": {
    "name": "ipython",
    "version": 3
   },
   "file_extension": ".py",
   "mimetype": "text/x-python",
   "name": "python",
   "nbconvert_exporter": "python",
   "pygments_lexer": "ipython3",
   "version": "3.7.3"
  }
 },
 "nbformat": 4,
 "nbformat_minor": 1
}
