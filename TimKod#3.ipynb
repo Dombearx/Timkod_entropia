{
 "cells": [
  {
   "cell_type": "code",
   "execution_count": 6,
   "metadata": {},
   "outputs": [],
   "source": [
    "from random import randint\n",
    "import random as random\n",
    "from math import log"
   ]
  },
  {
   "cell_type": "code",
   "execution_count": 7,
   "metadata": {},
   "outputs": [],
   "source": [
    "def readFile(file):\n",
    "    return open(file).read()"
   ]
  },
  {
   "cell_type": "code",
   "execution_count": 8,
   "metadata": {},
   "outputs": [
    {
     "name": "stdout",
     "output_type": "stream",
     "text": [
      "test\n"
     ]
    }
   ],
   "source": [
    "#ZADANIE 1\n",
    "print(\"test\")"
   ]
  },
  {
   "cell_type": "code",
   "execution_count": 9,
   "metadata": {},
   "outputs": [],
   "source": [
    "#Entropia\n",
    "# MAX - równomierne prawdopodobieństwo wszystkich elementów\n",
    "# 0 - prawdopodobieństwo = 1 (zerowa niepewność)\n",
    "\n",
    "# H(X) = -suma(p_i * log2(p_i))\n",
    "# p_i - prawdopodobieństwo wystąpienia elementu itego\n",
    "\n",
    "\n",
    "#Entropia warunkowa\n",
    "#jak bardzo rozrzucone są litery jeżeli poprzednia jest znana\n",
    "#zależnie od tego ile poprzednich elementów to inny stopień entropii warunkowej\n",
    "#-suma(prawdopodobieństwoWystąpieniaPary * log2(prawdopodobieństwoWystąpieniaWarunkowe))"
   ]
  },
  {
   "cell_type": "code",
   "execution_count": 10,
   "metadata": {},
   "outputs": [],
   "source": [
    "#Zadanie 1"
   ]
  },
  {
   "cell_type": "code",
   "execution_count": 11,
   "metadata": {},
   "outputs": [],
   "source": [
    "def entropia(probability):\n",
    "    h = 0\n",
    "    for p in probability:\n",
    "        h += p * log(p, 2)\n",
    "    \n",
    "    h = -h\n",
    "    return h"
   ]
  },
  {
   "cell_type": "code",
   "execution_count": 12,
   "metadata": {},
   "outputs": [
    {
     "data": {
      "text/plain": [
       "0.9709505944546686"
      ]
     },
     "execution_count": 12,
     "metadata": {},
     "output_type": "execute_result"
    }
   ],
   "source": [
    "entropia([0.4,0.6])"
   ]
  },
  {
   "cell_type": "code",
   "execution_count": 13,
   "metadata": {},
   "outputs": [],
   "source": [
    "base = []\n",
    "for i in range(26):\n",
    "    base.append(chr(i + 97))\n",
    "    \n",
    "base.append(\" \")    \n",
    "\n",
    "for i in range(10):\n",
    "    base.append(chr(i + 48))\n",
    "    "
   ]
  },
  {
   "cell_type": "code",
   "execution_count": 14,
   "metadata": {},
   "outputs": [],
   "source": [
    "def readLetters(text2):\n",
    "    letters = []\n",
    "    character = 0\n",
    "    for i in range(37):\n",
    "        letters.append(0)\n",
    "    for c in list(text2):\n",
    "        if c == \" \":\n",
    "            letters[26] += 1\n",
    "        else: \n",
    "            if ord(c) >= 48 and ord(c) <= 57:\n",
    "                character = ord(c)\n",
    "                letters[27 + (character - 48)] += 1\n",
    "            else:\n",
    "                character = ord(c)\n",
    "                letters[character - 97] += 1\n",
    "    return letters"
   ]
  },
  {
   "cell_type": "code",
   "execution_count": 15,
   "metadata": {},
   "outputs": [],
   "source": [
    "wikipedia = readFile(\"norm_wiki_sample.txt\")"
   ]
  },
  {
   "cell_type": "code",
   "execution_count": 16,
   "metadata": {},
   "outputs": [],
   "source": [
    "letters = readLetters(wikipedia)\n",
    "probability = []\n",
    "for letter in letters:\n",
    "    probability.append(letter / len(wikipedia))"
   ]
  },
  {
   "cell_type": "code",
   "execution_count": 17,
   "metadata": {},
   "outputs": [
    {
     "data": {
      "text/plain": [
       "4.2803962467015655"
      ]
     },
     "execution_count": 17,
     "metadata": {},
     "output_type": "execute_result"
    }
   ],
   "source": [
    "#entropia dla języka angielskiego:\n",
    "entropia(probability)"
   ]
  },
  {
   "cell_type": "code",
   "execution_count": 18,
   "metadata": {},
   "outputs": [
    {
     "data": {
      "text/plain": [
       "5.209453365628954"
      ]
     },
     "execution_count": 18,
     "metadata": {},
     "output_type": "execute_result"
    }
   ],
   "source": [
    "#entropia dla przybliżenia zerowego języka angielskiego\n",
    "n = 37\n",
    "prob = [1 / 37] * n\n",
    "entropia(prob)"
   ]
  },
  {
   "cell_type": "code",
   "execution_count": 19,
   "metadata": {},
   "outputs": [],
   "source": [
    "angielskiProbka = readFile(\"norm_wiki_en.txt\")"
   ]
  },
  {
   "cell_type": "code",
   "execution_count": 20,
   "metadata": {},
   "outputs": [],
   "source": [
    "letters = readLetters(angielskiProbka)\n",
    "probability = []\n",
    "for letter in letters:\n",
    "    probability.append(letter / len(angielskiProbka))"
   ]
  },
  {
   "cell_type": "code",
   "execution_count": 21,
   "metadata": {},
   "outputs": [
    {
     "data": {
      "text/plain": [
       "4.288221453845133"
      ]
     },
     "execution_count": 21,
     "metadata": {},
     "output_type": "execute_result"
    }
   ],
   "source": [
    "#entropia znakowa dla próbki języka angielskiego:\n",
    "entropia(probability)"
   ]
  },
  {
   "cell_type": "code",
   "execution_count": 22,
   "metadata": {},
   "outputs": [],
   "source": [
    "#-suma(prawdopodobieństwoWystąpieniaPary * log2(prawdopodobieństwoWystąpieniaWarunkowe))\n",
    "def entropiaWaruknowa(prawdopodobienstwoLaczne, prawdopodobienstwoWarunkowe):\n",
    "    h = 0\n",
    "    for pl, pw in zip(prawdopodobienstwoLaczne, prawdopodobienstwoWarunkowe):\n",
    "        h += pl * log(pw, 2)\n",
    "    \n",
    "    h = -h\n",
    "    return h"
   ]
  },
  {
   "cell_type": "code",
   "execution_count": 23,
   "metadata": {},
   "outputs": [],
   "source": [
    "#policzyć prawdopodobieństwo wystąpienia ciągu znaków rzędu n;\n",
    "#policzyć prawdopodobieństwo wystąpienia każdego znaku po ciągu znaków;\n",
    "#policzyć sumę prawdopodobieństw\n",
    "\n",
    "#powtórzyć dla kazdego ciągu znaków rzędu n"
   ]
  },
  {
   "cell_type": "code",
   "execution_count": 24,
   "metadata": {},
   "outputs": [
    {
     "data": {
      "text/plain": [
       "4.288221453845133"
      ]
     },
     "execution_count": 24,
     "metadata": {},
     "output_type": "execute_result"
    }
   ],
   "source": [
    "entropia(probability)"
   ]
  },
  {
   "cell_type": "code",
   "execution_count": 25,
   "metadata": {},
   "outputs": [],
   "source": [
    "from IPython.display import clear_output"
   ]
  },
  {
   "cell_type": "code",
   "execution_count": 44,
   "metadata": {},
   "outputs": [],
   "source": [
    "#tekst - tekst do przeszukania\n",
    "#l - długość n-gramu\n",
    "\n",
    "\n",
    "#O CO TUTAJ CHODZI\n",
    "#dla entropii warunkowej 1szego rzędu\n",
    "#dzielimy tekst na pary znaków\n",
    "#liczymy prawdopodobieństwo wystąpnienia kazdej pary (np. \"al\")\n",
    "#liczymy prawdopodobieństwo wystąpienia drugiego znaku po pierwszyym (np: \"l\" po \"a\") \n",
    "#(ile razy wystepuje \"al\" / ile razy występuje \"a\")\n",
    "#dla drugiego rzędu trójki\n",
    "#ile razy \"abc\"\n",
    "#ile razy \"c\" po \"ab\"\n",
    "\n",
    "def dzielenieTekstu(tekst, l):\n",
    "    ngrams = {}\n",
    "    \n",
    "    chars = {}\n",
    "    \n",
    "    percent = 0\n",
    "    for i in range(len(tekst) + 1):\n",
    "        if i >= l:\n",
    "            ngram = tekst[i-l:i]\n",
    "            #Zliczanie ngramu:\n",
    "            if ngram in ngrams:\n",
    "                ngrams[ngram] += 1\n",
    "            else:\n",
    "                ngrams[ngram] = 1\n",
    "            #Zliczanie bez ostatniego znaku:\n",
    "            char = ngram[:-1]\n",
    "            #print(ngram, char)\n",
    "            if char in chars:\n",
    "                chars[char] += 1\n",
    "            else:\n",
    "                chars[char] = 1\n",
    "                \n",
    "        \n",
    "            if i >  percent * (len(tekst) / 100):\n",
    "                clear_output()\n",
    "                print(percent, \"%\")\n",
    "                percent += 1\n",
    "                \n",
    "    return ngrams, chars\n",
    "            \n",
    "        "
   ]
  },
  {
   "cell_type": "code",
   "execution_count": 64,
   "metadata": {
    "scrolled": false
   },
   "outputs": [],
   "source": [
    "\n",
    "\n",
    "\n",
    "#O CO TUTAJ CHODZI\n",
    "#dla entropii warunkowej 1szego rzędu\n",
    "#dzielimy tekst na pary znaków\n",
    "#liczymy prawdopodobieństwo wystąpnienia kazdej pary (np. \"al\")\n",
    "#liczymy prawdopodobieństwo wystąpienia drugiego znaku po pierwszyym (np: \"l\" po \"a\") \n",
    "#(ile razy wystepuje \"al\" / ile razy występuje \"a\")\n",
    "#dla drugiego rzędu trójki\n",
    "#ile razy \"abc\"\n",
    "#ile razy \"c\" po \"ab\"\n",
    "\n",
    "#tekst - tekst do przeszukania\n",
    "#l - liczba wyrazów\n",
    "def dzielenieTekstuWyrazy(tekst, n):\n",
    "    n_tuples = {}    \n",
    "    n_minus_1_tuples = {}\n",
    "        \n",
    "    percent = 0\n",
    "    sentence = []\n",
    "    \n",
    "    words = tekst.split()\n",
    "        \n",
    "    for i in range(len(words) - (n - 1)):\n",
    "        begin_index = i \n",
    "        end_index = i + n\n",
    "        \n",
    "        n_tuple = words[begin_index:end_index]\n",
    "        \n",
    "        n_tuple_key = \" \".join(n_tuple)\n",
    "        \n",
    "        #Zliczanie ngramu:\n",
    "        if n_tuple_key in n_tuples:\n",
    "            n_tuples[n_tuple_key] += 1\n",
    "        else:\n",
    "            n_tuples[n_tuple_key] = 1\n",
    "            \n",
    "            \n",
    "        n_minus_1_tuple = words[begin_index:end_index - 1]\n",
    "        \n",
    "        n_minus_1_tuple_key = \" \".join(n_minus_1_tuple)\n",
    "        \n",
    "        #Zliczanie ngramu - 1:\n",
    "        if n_minus_1_tuple_key in n_minus_1_tuples:\n",
    "            n_minus_1_tuples[n_minus_1_tuple_key] += 1\n",
    "        else:\n",
    "            n_minus_1_tuples[n_minus_1_tuple_key] = 1\n",
    "\n",
    "\n",
    "        if i > percent * (len(words) / 100):\n",
    "            clear_output()\n",
    "            print(percent, \"%\")\n",
    "            percent += 1\n",
    "                \n",
    "    return n_tuples, n_minus_1_tuples"
   ]
  },
  {
   "cell_type": "code",
   "execution_count": 57,
   "metadata": {},
   "outputs": [],
   "source": [
    "def obliczPrawdopodobienstwoWarunkoweWyrazow(n_tuples, n_minus_1_tuples):\n",
    "    probability = []\n",
    "    \n",
    "    for ngram, occurences in n_tuples.items():\n",
    "        n_tuple_key = ngram.split()\n",
    "        n_minus_1_tuple = n_tuple_key[:-1]\n",
    "        n_minus_1_tuple_key = \" \".join(n_minus_1_tuple)\n",
    "\n",
    "        probability.append(occurences / n_minus_1_tuples[n_minus_1_tuple_key])\n",
    "\n",
    "    return probability"
   ]
  },
  {
   "cell_type": "code",
   "execution_count": 58,
   "metadata": {},
   "outputs": [],
   "source": [
    "def obliczPrawdopodobienstwoWystapieniaZdania(n_tuples):\n",
    "    probability = []\n",
    "    occurences_sum = sum(n_tuples.values())\n",
    "    \n",
    "    for ngram, occurences in n_tuples.items():\n",
    "        probability.append(occurences / occurences_sum)\n",
    "        \n",
    "    return probability"
   ]
  },
  {
   "cell_type": "code",
   "execution_count": 59,
   "metadata": {},
   "outputs": [],
   "source": [
    "def obliczPrawdopodobienstwoWarunkowe(ngrams, chars):\n",
    "    probability = []\n",
    "    \n",
    "    for ngram, occurences in ngrams.items():\n",
    "        char = ngram[:-1]\n",
    "        probability.append(occurences / chars[char])\n",
    "\n",
    "    return probability"
   ]
  },
  {
   "cell_type": "code",
   "execution_count": 60,
   "metadata": {},
   "outputs": [],
   "source": [
    "def obliczPrawdopodobienstwoWystapieniaNgramu(ngrams):\n",
    "    probability = []\n",
    "    occurences_sum = sum(ngrams.values())\n",
    "    \n",
    "    for ngram, occurences in ngrams.items():\n",
    "        probability.append(occurences / occurences_sum)\n",
    "        \n",
    "    return probability"
   ]
  },
  {
   "cell_type": "code",
   "execution_count": 39,
   "metadata": {},
   "outputs": [],
   "source": [
    "def countWords(text2):\n",
    "    words = []\n",
    "    words_counts = []\n",
    "    \n",
    "    for word in text2.split():\n",
    "        if word in words:\n",
    "            words_counts[words.index(word)] += 1\n",
    "        else:\n",
    "            words.append(word)\n",
    "            words_counts.append(1)\n",
    "            \n",
    "    return words"
   ]
  },
  {
   "cell_type": "code",
   "execution_count": 33,
   "metadata": {},
   "outputs": [],
   "source": [
    "letters = readLetters(angielskiProbka)\n",
    "probability = []\n",
    "for letter in letters:\n",
    "    probability.append(letter / len(angielskiProbka))"
   ]
  },
  {
   "cell_type": "code",
   "execution_count": 34,
   "metadata": {},
   "outputs": [
    {
     "data": {
      "text/plain": [
       "4.288221453845133"
      ]
     },
     "execution_count": 34,
     "metadata": {},
     "output_type": "execute_result"
    }
   ],
   "source": [
    "#entropia znakowa dla próbki języka angielskiego:\n",
    "entropia(probability)"
   ]
  },
  {
   "cell_type": "code",
   "execution_count": 38,
   "metadata": {},
   "outputs": [
    {
     "ename": "ValueError",
     "evalue": "too many values to unpack (expected 2)",
     "output_type": "error",
     "traceback": [
      "\u001b[1;31m---------------------------------------------------------------------------\u001b[0m",
      "\u001b[1;31mValueError\u001b[0m                                Traceback (most recent call last)",
      "\u001b[1;32m<ipython-input-38-3fa6a5aceaf4>\u001b[0m in \u001b[0;36m<module>\u001b[1;34m\u001b[0m\n\u001b[1;32m----> 1\u001b[1;33m \u001b[0mwords\u001b[0m\u001b[1;33m,\u001b[0m \u001b[0mwords_counts\u001b[0m \u001b[1;33m=\u001b[0m \u001b[0mcountWords\u001b[0m\u001b[1;33m(\u001b[0m\u001b[0mangielskiProbka\u001b[0m\u001b[1;33m)\u001b[0m\u001b[1;33m\u001b[0m\u001b[1;33m\u001b[0m\u001b[0m\n\u001b[0m\u001b[0;32m      2\u001b[0m \u001b[0mprobability\u001b[0m \u001b[1;33m=\u001b[0m \u001b[1;33m[\u001b[0m\u001b[1;33m]\u001b[0m\u001b[1;33m\u001b[0m\u001b[1;33m\u001b[0m\u001b[0m\n\u001b[0;32m      3\u001b[0m \u001b[1;32mfor\u001b[0m \u001b[0mword\u001b[0m \u001b[1;32min\u001b[0m \u001b[0mwords\u001b[0m\u001b[1;33m:\u001b[0m\u001b[1;33m\u001b[0m\u001b[1;33m\u001b[0m\u001b[0m\n\u001b[0;32m      4\u001b[0m     \u001b[0mprobability\u001b[0m\u001b[1;33m.\u001b[0m\u001b[0mappend\u001b[0m\u001b[1;33m(\u001b[0m\u001b[0mletter\u001b[0m \u001b[1;33m/\u001b[0m \u001b[0mlen\u001b[0m\u001b[1;33m(\u001b[0m\u001b[0mangielskiProbka\u001b[0m\u001b[1;33m.\u001b[0m\u001b[0msplit\u001b[0m\u001b[1;33m(\u001b[0m\u001b[1;33m)\u001b[0m\u001b[1;33m)\u001b[0m\u001b[1;33m)\u001b[0m\u001b[1;33m\u001b[0m\u001b[1;33m\u001b[0m\u001b[0m\n",
      "\u001b[1;31mValueError\u001b[0m: too many values to unpack (expected 2)"
     ]
    }
   ],
   "source": [
    "words, words_counts = countWords(angielskiProbka)\n",
    "probability = []\n",
    "for word in words:\n",
    "    probability.append(letter / len(angielskiProbka.split()))"
   ]
  },
  {
   "cell_type": "code",
   "execution_count": 66,
   "metadata": {},
   "outputs": [
    {
     "data": {
      "text/plain": [
       "17.933166688043382"
      ]
     },
     "execution_count": 66,
     "metadata": {},
     "output_type": "execute_result"
    }
   ],
   "source": [
    "#entropia słowna dla próbki języka angielskiego:\n",
    "entropia(probability)"
   ]
  },
  {
   "cell_type": "code",
   "execution_count": null,
   "metadata": {},
   "outputs": [],
   "source": []
  },
  {
   "cell_type": "code",
   "execution_count": 71,
   "metadata": {},
   "outputs": [],
   "source": [
    "def obliczZnakowaEntropieDlaTekstu(tekst, stopien):\n",
    "    ngrams, chars,  = dzielenieTekstu(tekst, stopien + 1)\n",
    "    probability_conditional  = obliczPrawdopodobienstwoWarunkowe(ngrams, chars)\n",
    "    probability = obliczPrawdopodobienstwoWystapieniaNgramu(ngrams)\n",
    "    return entropiaWaruknowa(probability, probability_conditional)"
   ]
  },
  {
   "cell_type": "code",
   "execution_count": 72,
   "metadata": {},
   "outputs": [],
   "source": [
    "def obliczSlownaEntropieDlaTekstu(tekst, stopien):\n",
    "    ngrams, chars = dzielenieTekstuWyrazy(tekst, stopien + 1)\n",
    "    probability_conditional  = obliczPrawdopodobienstwoWarunkoweWyrazow(ngrams, chars)\n",
    "    probability = obliczPrawdopodobienstwoWystapieniaZdania(ngrams)\n",
    "    return entropiaWaruknowa(probability, probability_conditional)"
   ]
  },
  {
   "cell_type": "code",
   "execution_count": 75,
   "metadata": {},
   "outputs": [
    {
     "name": "stdout",
     "output_type": "stream",
     "text": [
      "99 %\n"
     ]
    }
   ],
   "source": [
    "#Entropia warunkowa 1 stopnia\n",
    "entropieZnakowe = []\n",
    "entropieSlowne = []\n",
    "for i in range(3):\n",
    "    entropieZnakowe.append(obliczZnakowaEntropieDlaTekstu(angielskiProbka, i + 1))\n",
    "    entropieSlowne.append(obliczSlownaEntropieDlaTekstu(angielskiProbka, i + 1))"
   ]
  },
  {
   "cell_type": "code",
   "execution_count": 78,
   "metadata": {},
   "outputs": [
    {
     "data": {
      "text/plain": [
       "[3.5166047989860245, 3.0183191907911358, 2.4815659195766617]"
      ]
     },
     "execution_count": 78,
     "metadata": {},
     "output_type": "execute_result"
    }
   ],
   "source": [
    "entropieZnakowe"
   ]
  },
  {
   "cell_type": "code",
   "execution_count": 79,
   "metadata": {},
   "outputs": [
    {
     "data": {
      "text/plain": [
       "[6.389175065964963, 2.176460456201819, 0.48467886887154094]"
      ]
     },
     "execution_count": 79,
     "metadata": {},
     "output_type": "execute_result"
    }
   ],
   "source": [
    "entropieSlowne"
   ]
  },
  {
   "cell_type": "code",
   "execution_count": 65,
   "metadata": {},
   "outputs": [
    {
     "name": "stdout",
     "output_type": "stream",
     "text": [
      "99 %\n"
     ]
    },
    {
     "data": {
      "text/plain": [
       "6.389175065964963"
      ]
     },
     "execution_count": 65,
     "metadata": {},
     "output_type": "execute_result"
    }
   ],
   "source": [
    "#Entropia warunkowa 1 stopnia - wyrazy\n",
    "ngrams, chars = dzielenieTekstuWyrazy(angielskiProbka, 2)\n",
    "probability_conditional  = obliczPrawdopodobienstwoWarunkoweWyrazow(ngrams, chars)\n",
    "probability = obliczPrawdopodobienstwoWystapieniaZdania(ngrams)\n",
    "entropiaWaruknowa(probability, probability_conditional)"
   ]
  },
  {
   "cell_type": "code",
   "execution_count": 49,
   "metadata": {},
   "outputs": [
    {
     "name": "stdout",
     "output_type": "stream",
     "text": [
      "99 %\n"
     ]
    },
    {
     "data": {
      "text/plain": [
       "3.0183191907911358"
      ]
     },
     "execution_count": 49,
     "metadata": {},
     "output_type": "execute_result"
    }
   ],
   "source": [
    "#Entropia warunkowa 2 stopnia\n",
    "ngrams, chars,  = dzielenieTekstu(angielskiProbka, 3)\n",
    "probability_conditional  = obliczPrawdopodobienstwoWarunkowe(ngrams, chars)\n",
    "probability = obliczPrawdopodobienstwoWystapieniaNgramu(ngrams)\n",
    "entropiaWaruknowa(probability, probability_conditional)"
   ]
  },
  {
   "cell_type": "code",
   "execution_count": null,
   "metadata": {},
   "outputs": [],
   "source": [
    "#Entropia warunkowa 2 stopnia - wyrazy\n",
    "ngrams, ngrams_counts, chars, chars_counts = dzielenieTekstuWyrazy(angielskiProbka, 3)\n",
    "ngrams, probability_conditional  = obliczPrawdopodobienstwoWarunkoweWyrazow(ngrams, ngrams_counts, chars, chars_counts)\n",
    "ngrams, probability = obliczPrawdopodobienstwoWystapieniaZdania(ngrams, ngrams_counts)\n",
    "entropiaWaruknowa(probability, probability_conditional)"
   ]
  },
  {
   "cell_type": "code",
   "execution_count": 50,
   "metadata": {},
   "outputs": [
    {
     "name": "stdout",
     "output_type": "stream",
     "text": [
      "99 %\n"
     ]
    },
    {
     "data": {
      "text/plain": [
       "2.4815659195766617"
      ]
     },
     "execution_count": 50,
     "metadata": {},
     "output_type": "execute_result"
    }
   ],
   "source": [
    "#Entropia warunkowa 3 stopnia\n",
    "ngrams, chars,  = dzielenieTekstu(angielskiProbka, 4)\n",
    "probability_conditional  = obliczPrawdopodobienstwoWarunkowe(ngrams, chars)\n",
    "probability = obliczPrawdopodobienstwoWystapieniaNgramu(ngrams)\n",
    "entropiaWaruknowa(probability, probability_conditional)"
   ]
  },
  {
   "cell_type": "code",
   "execution_count": null,
   "metadata": {},
   "outputs": [],
   "source": [
    "#Entropia warunkowa 2 stopnia - wyrazy\n",
    "ngrams, ngrams_counts, chars, chars_counts = dzielenieTekstuWyrazy(angielskiProbka, 4)\n",
    "ngrams, probability_conditional  = obliczPrawdopodobienstwoWarunkoweWyrazow(ngrams, ngrams_counts, chars, chars_counts)\n",
    "ngrams, probability = obliczPrawdopodobienstwoWystapieniaZdania(ngrams, ngrams_counts)\n",
    "entropiaWaruknowa(probability, probability_conditional)"
   ]
  },
  {
   "cell_type": "code",
   "execution_count": null,
   "metadata": {},
   "outputs": [],
   "source": []
  },
  {
   "cell_type": "code",
   "execution_count": null,
   "metadata": {},
   "outputs": [],
   "source": [
    "la = readFile(\"norm_wiki_la.txt\")"
   ]
  },
  {
   "cell_type": "code",
   "execution_count": null,
   "metadata": {},
   "outputs": [],
   "source": [
    "letters = readLetters(la)\n",
    "probability = []\n",
    "for letter in letters:\n",
    "    probability.append(letter / len(la))\n",
    "#entropia znakowa dla próbki języka łacińskiego:\n",
    "entropia(probability)"
   ]
  },
  {
   "cell_type": "code",
   "execution_count": null,
   "metadata": {},
   "outputs": [],
   "source": [
    "words, words_counts = countWords(la)\n",
    "probability = []\n",
    "for word in words:\n",
    "    probability.append(letter / len(la.split()))\n",
    "#entropia słowna dla próbki języka łacińskiego:\n",
    "entropia(probability)"
   ]
  },
  {
   "cell_type": "code",
   "execution_count": null,
   "metadata": {},
   "outputs": [],
   "source": [
    "#Entropia warunkowa 1 stopnia\n",
    "ngrams, ngrams_counts, chars, chars_counts = dzielenieTekstu(la, 2)\n",
    "ngrams, probability_conditional  = obliczPrawdopodobienstwoWarunkowe(ngrams, ngrams_counts, chars, chars_counts)\n",
    "ngrams, probability = obliczPrawdopodobienstwoWystapieniaNgramu(ngrams, ngrams_counts)\n",
    "entropiaWaruknowa(probability, probability_conditional)"
   ]
  },
  {
   "cell_type": "code",
   "execution_count": null,
   "metadata": {},
   "outputs": [],
   "source": [
    "#Entropia warunkowa 1 stopnia - wyrazy\n",
    "ngrams, ngrams_counts, chars, chars_counts = dzielenieTekstuWyrazy(la, 2)\n",
    "ngrams, probability_conditional  = obliczPrawdopodobienstwoWarunkoweWyrazow(ngrams, ngrams_counts, chars, chars_counts)\n",
    "ngrams, probability = obliczPrawdopodobienstwoWystapieniaZdania(ngrams, ngrams_counts)\n",
    "entropiaWaruknowa(probability, probability_conditional)"
   ]
  },
  {
   "cell_type": "code",
   "execution_count": null,
   "metadata": {},
   "outputs": [],
   "source": [
    "#Entropia warunkowa 2 stopnia\n",
    "ngrams, ngrams_counts, chars, chars_counts = dzielenieTekstu(la, 3)\n",
    "ngrams, probability_conditional  = obliczPrawdopodobienstwoWarunkowe(ngrams, ngrams_counts, chars, chars_counts)\n",
    "ngrams, probability = obliczPrawdopodobienstwoWystapieniaNgramu(ngrams, ngrams_counts)\n",
    "entropiaWaruknowa(probability, probability_conditional)"
   ]
  },
  {
   "cell_type": "code",
   "execution_count": null,
   "metadata": {},
   "outputs": [],
   "source": [
    "#Entropia warunkowa 2 stopnia - wyrazy\n",
    "ngrams, ngrams_counts, chars, chars_counts = dzielenieTekstuWyrazy(la, 3)\n",
    "ngrams, probability_conditional  = obliczPrawdopodobienstwoWarunkoweWyrazow(ngrams, ngrams_counts, chars, chars_counts)\n",
    "ngrams, probability = obliczPrawdopodobienstwoWystapieniaZdania(ngrams, ngrams_counts)\n",
    "entropiaWaruknowa(probability, probability_conditional)"
   ]
  },
  {
   "cell_type": "code",
   "execution_count": null,
   "metadata": {},
   "outputs": [],
   "source": [
    "#Entropia warunkowa 3 stopnia\n",
    "ngrams, ngrams_counts, chars, chars_counts = dzielenieTekstu(la, 4)\n",
    "ngrams, probability_conditional  = obliczPrawdopodobienstwoWarunkowe(ngrams, ngrams_counts, chars, chars_counts)\n",
    "ngrams, probability = obliczPrawdopodobienstwoWystapieniaNgramu(ngrams, ngrams_counts)\n",
    "entropiaWaruknowa(probability, probability_conditional)"
   ]
  },
  {
   "cell_type": "code",
   "execution_count": null,
   "metadata": {},
   "outputs": [],
   "source": [
    "#Entropia warunkowa 3 stopnia - wyrazy\n",
    "ngrams, ngrams_counts, chars, chars_counts = dzielenieTekstuWyrazy(la, 4)\n",
    "ngrams, probability_conditional  = obliczPrawdopodobienstwoWarunkoweWyrazow(ngrams, ngrams_counts, chars, chars_counts)\n",
    "ngrams, probability = obliczPrawdopodobienstwoWystapieniaZdania(ngrams, ngrams_counts)\n",
    "entropiaWaruknowa(probability, probability_conditional)"
   ]
  },
  {
   "cell_type": "code",
   "execution_count": null,
   "metadata": {},
   "outputs": [],
   "source": []
  },
  {
   "cell_type": "code",
   "execution_count": null,
   "metadata": {},
   "outputs": [],
   "source": [
    "s1 = readFile(\"sample0.txt\")"
   ]
  },
  {
   "cell_type": "code",
   "execution_count": null,
   "metadata": {},
   "outputs": [],
   "source": [
    "letters = readLetters(s1)\n",
    "probability = []\n",
    "for letter in letters:\n",
    "    probability.append(letter / len(s1))\n",
    "#entropia znakowa dla próbki języka łacińskiego:\n",
    "entropia(probability)"
   ]
  },
  {
   "cell_type": "code",
   "execution_count": null,
   "metadata": {},
   "outputs": [],
   "source": [
    "words, words_counts = countWords(s1)\n",
    "probability = []\n",
    "for word in words:\n",
    "    probability.append(letter / len(s1.split()))\n",
    "#entropia słowna dla próbki języka łacińskiego:\n",
    "entropia(probability)"
   ]
  },
  {
   "cell_type": "code",
   "execution_count": null,
   "metadata": {},
   "outputs": [],
   "source": [
    "#Entropia warunkowa 1 stopnia\n",
    "ngrams, ngrams_counts, chars, chars_counts = dzielenieTekstu(s1, 2)\n",
    "ngrams, probability_conditional  = obliczPrawdopodobienstwoWarunkowe(ngrams, ngrams_counts, chars, chars_counts)\n",
    "ngrams, probability = obliczPrawdopodobienstwoWystapieniaNgramu(ngrams, ngrams_counts)\n",
    "entropiaWaruknowa(probability, probability_conditional)"
   ]
  },
  {
   "cell_type": "code",
   "execution_count": null,
   "metadata": {},
   "outputs": [],
   "source": [
    "#Entropia warunkowa 1 stopnia - wyrazy\n",
    "ngrams, ngrams_counts, chars, chars_counts = dzielenieTekstuWyrazy(s1, 2)\n",
    "ngrams, probability_conditional  = obliczPrawdopodobienstwoWarunkoweWyrazow(ngrams, ngrams_counts, chars, chars_counts)\n",
    "ngrams, probability = obliczPrawdopodobienstwoWystapieniaZdania(ngrams, ngrams_counts)\n",
    "entropiaWaruknowa(probability, probability_conditional)"
   ]
  },
  {
   "cell_type": "code",
   "execution_count": null,
   "metadata": {},
   "outputs": [],
   "source": [
    "#Entropia warunkowa 2 stopnia\n",
    "ngrams, ngrams_counts, chars, chars_counts = dzielenieTekstu(s1, 3)\n",
    "ngrams, probability_conditional  = obliczPrawdopodobienstwoWarunkowe(ngrams, ngrams_counts, chars, chars_counts)\n",
    "ngrams, probability = obliczPrawdopodobienstwoWystapieniaNgramu(ngrams, ngrams_counts)\n",
    "entropiaWaruknowa(probability, probability_conditional)"
   ]
  },
  {
   "cell_type": "code",
   "execution_count": null,
   "metadata": {},
   "outputs": [],
   "source": [
    "#Entropia warunkowa 2 stopnia - wyrazy\n",
    "ngrams, ngrams_counts, chars, chars_counts = dzielenieTekstuWyrazy(s1, 3)\n",
    "ngrams, probability_conditional  = obliczPrawdopodobienstwoWarunkoweWyrazow(ngrams, ngrams_counts, chars, chars_counts)\n",
    "ngrams, probability = obliczPrawdopodobienstwoWystapieniaZdania(ngrams, ngrams_counts)\n",
    "entropiaWaruknowa(probability, probability_conditional)"
   ]
  },
  {
   "cell_type": "code",
   "execution_count": null,
   "metadata": {},
   "outputs": [],
   "source": [
    "#Entropia warunkowa 3 stopnia\n",
    "ngrams, ngrams_counts, chars, chars_counts = dzielenieTekstu(s1, 4)\n",
    "ngrams, probability_conditional  = obliczPrawdopodobienstwoWarunkowe(ngrams, ngrams_counts, chars, chars_counts)\n",
    "ngrams, probability = obliczPrawdopodobienstwoWystapieniaNgramu(ngrams, ngrams_counts)\n",
    "entropiaWaruknowa(probability, probability_conditional)"
   ]
  },
  {
   "cell_type": "code",
   "execution_count": null,
   "metadata": {},
   "outputs": [],
   "source": [
    "#Entropia warunkowa 3 stopnia - wyrazy\n",
    "ngrams, ngrams_counts, chars, chars_counts = dzielenieTekstuWyrazy(s1, 4)\n",
    "ngrams, probability_conditional  = obliczPrawdopodobienstwoWarunkoweWyrazow(ngrams, ngrams_counts, chars, chars_counts)\n",
    "ngrams, probability = obliczPrawdopodobienstwoWystapieniaZdania(ngrams, ngrams_counts)\n",
    "entropiaWaruknowa(probability, probability_conditional)"
   ]
  },
  {
   "cell_type": "code",
   "execution_count": null,
   "metadata": {},
   "outputs": [],
   "source": []
  },
  {
   "cell_type": "code",
   "execution_count": null,
   "metadata": {},
   "outputs": [],
   "source": []
  },
  {
   "cell_type": "code",
   "execution_count": null,
   "metadata": {},
   "outputs": [],
   "source": [
    "s1 = readFile(\"sample1.txt\")"
   ]
  },
  {
   "cell_type": "code",
   "execution_count": null,
   "metadata": {},
   "outputs": [],
   "source": [
    "letters = readLetters(s1)\n",
    "probability = []\n",
    "for letter in letters:\n",
    "    probability.append(letter / len(s1))\n",
    "#entropia znakowa dla próbki języka łacińskiego:\n",
    "entropia(probability)"
   ]
  },
  {
   "cell_type": "code",
   "execution_count": null,
   "metadata": {},
   "outputs": [],
   "source": [
    "words, words_counts = countWords(s1)\n",
    "probability = []\n",
    "for word in words:\n",
    "    probability.append(letter / len(s1.split()))\n",
    "#entropia słowna dla próbki języka łacińskiego:\n",
    "entropia(probability)"
   ]
  },
  {
   "cell_type": "code",
   "execution_count": null,
   "metadata": {},
   "outputs": [],
   "source": [
    "#Entropia warunkowa 1 stopnia\n",
    "ngrams, ngrams_counts, chars, chars_counts = dzielenieTekstu(s1, 2)\n",
    "ngrams, probability_conditional  = obliczPrawdopodobienstwoWarunkowe(ngrams, ngrams_counts, chars, chars_counts)\n",
    "ngrams, probability = obliczPrawdopodobienstwoWystapieniaNgramu(ngrams, ngrams_counts)\n",
    "entropiaWaruknowa(probability, probability_conditional)"
   ]
  },
  {
   "cell_type": "code",
   "execution_count": null,
   "metadata": {},
   "outputs": [],
   "source": [
    "#Entropia warunkowa 1 stopnia - wyrazy\n",
    "ngrams, ngrams_counts, chars, chars_counts = dzielenieTekstuWyrazy(s1, 2)\n",
    "ngrams, probability_conditional  = obliczPrawdopodobienstwoWarunkoweWyrazow(ngrams, ngrams_counts, chars, chars_counts)\n",
    "ngrams, probability = obliczPrawdopodobienstwoWystapieniaZdania(ngrams, ngrams_counts)\n",
    "entropiaWaruknowa(probability, probability_conditional)"
   ]
  },
  {
   "cell_type": "code",
   "execution_count": null,
   "metadata": {},
   "outputs": [],
   "source": [
    "#Entropia warunkowa 2 stopnia\n",
    "ngrams, ngrams_counts, chars, chars_counts = dzielenieTekstu(s1, 3)\n",
    "ngrams, probability_conditional  = obliczPrawdopodobienstwoWarunkowe(ngrams, ngrams_counts, chars, chars_counts)\n",
    "ngrams, probability = obliczPrawdopodobienstwoWystapieniaNgramu(ngrams, ngrams_counts)\n",
    "entropiaWaruknowa(probability, probability_conditional)"
   ]
  },
  {
   "cell_type": "code",
   "execution_count": null,
   "metadata": {},
   "outputs": [],
   "source": [
    "#Entropia warunkowa 2 stopnia - wyrazy\n",
    "ngrams, ngrams_counts, chars, chars_counts = dzielenieTekstuWyrazy(s1, 3)\n",
    "ngrams, probability_conditional  = obliczPrawdopodobienstwoWarunkoweWyrazow(ngrams, ngrams_counts, chars, chars_counts)\n",
    "ngrams, probability = obliczPrawdopodobienstwoWystapieniaZdania(ngrams, ngrams_counts)\n",
    "entropiaWaruknowa(probability, probability_conditional)"
   ]
  },
  {
   "cell_type": "code",
   "execution_count": null,
   "metadata": {},
   "outputs": [],
   "source": [
    "#Entropia warunkowa 3 stopnia\n",
    "ngrams, ngrams_counts, chars, chars_counts = dzielenieTekstu(s1, 4)\n",
    "ngrams, probability_conditional  = obliczPrawdopodobienstwoWarunkowe(ngrams, ngrams_counts, chars, chars_counts)\n",
    "ngrams, probability = obliczPrawdopodobienstwoWystapieniaNgramu(ngrams, ngrams_counts)\n",
    "entropiaWaruknowa(probability, probability_conditional)"
   ]
  },
  {
   "cell_type": "code",
   "execution_count": null,
   "metadata": {},
   "outputs": [],
   "source": [
    "#Entropia warunkowa 2 stopnia - wyrazy\n",
    "ngrams, ngrams_counts, chars, chars_counts = dzielenieTekstuWyrazy(s1, 4)\n",
    "ngrams, probability_conditional  = obliczPrawdopodobienstwoWarunkoweWyrazow(ngrams, ngrams_counts, chars, chars_counts)\n",
    "ngrams, probability = obliczPrawdopodobienstwoWystapieniaZdania(ngrams, ngrams_counts)\n",
    "entropiaWaruknowa(probability, probability_conditional)"
   ]
  },
  {
   "cell_type": "code",
   "execution_count": null,
   "metadata": {},
   "outputs": [],
   "source": []
  },
  {
   "cell_type": "code",
   "execution_count": null,
   "metadata": {},
   "outputs": [],
   "source": []
  },
  {
   "cell_type": "code",
   "execution_count": null,
   "metadata": {},
   "outputs": [],
   "source": [
    "s1 = readFile(\"sample2.txt\")"
   ]
  },
  {
   "cell_type": "code",
   "execution_count": null,
   "metadata": {},
   "outputs": [],
   "source": [
    "letters = readLetters(s1)\n",
    "probability = []\n",
    "for letter in letters:\n",
    "    probability.append(letter / len(s1))\n",
    "#entropia znakowa dla próbki języka łacińskiego:\n",
    "entropia(probability)"
   ]
  },
  {
   "cell_type": "code",
   "execution_count": null,
   "metadata": {},
   "outputs": [],
   "source": [
    "words, words_counts = countWords(s1)\n",
    "probability = []\n",
    "for word in words:\n",
    "    probability.append(letter / len(s1.split()))\n",
    "#entropia słowna dla próbki języka łacińskiego:\n",
    "entropia(probability)"
   ]
  },
  {
   "cell_type": "code",
   "execution_count": null,
   "metadata": {},
   "outputs": [],
   "source": [
    "#Entropia warunkowa 1 stopnia\n",
    "ngrams, ngrams_counts, chars, chars_counts = dzielenieTekstu(s1, 2)\n",
    "ngrams, probability_conditional  = obliczPrawdopodobienstwoWarunkowe(ngrams, ngrams_counts, chars, chars_counts)\n",
    "ngrams, probability = obliczPrawdopodobienstwoWystapieniaNgramu(ngrams, ngrams_counts)\n",
    "entropiaWaruknowa(probability, probability_conditional)"
   ]
  },
  {
   "cell_type": "code",
   "execution_count": null,
   "metadata": {},
   "outputs": [],
   "source": [
    "#Entropia warunkowa 1 stopnia - wyrazy\n",
    "ngrams, ngrams_counts, chars, chars_counts = dzielenieTekstuWyrazy(s1, 2)\n",
    "ngrams, probability_conditional  = obliczPrawdopodobienstwoWarunkoweWyrazow(ngrams, ngrams_counts, chars, chars_counts)\n",
    "ngrams, probability = obliczPrawdopodobienstwoWystapieniaZdania(ngrams, ngrams_counts)\n",
    "entropiaWaruknowa(probability, probability_conditional)"
   ]
  },
  {
   "cell_type": "code",
   "execution_count": null,
   "metadata": {},
   "outputs": [],
   "source": [
    "#Entropia warunkowa 2 stopnia\n",
    "ngrams, ngrams_counts, chars, chars_counts = dzielenieTekstu(s1, 3)\n",
    "ngrams, probability_conditional  = obliczPrawdopodobienstwoWarunkowe(ngrams, ngrams_counts, chars, chars_counts)\n",
    "ngrams, probability = obliczPrawdopodobienstwoWystapieniaNgramu(ngrams, ngrams_counts)\n",
    "entropiaWaruknowa(probability, probability_conditional)"
   ]
  },
  {
   "cell_type": "code",
   "execution_count": null,
   "metadata": {},
   "outputs": [],
   "source": [
    "#Entropia warunkowa 2 stopnia - wyrazy\n",
    "ngrams, ngrams_counts, chars, chars_counts = dzielenieTekstuWyrazy(s1, 3)\n",
    "ngrams, probability_conditional  = obliczPrawdopodobienstwoWarunkoweWyrazow(ngrams, ngrams_counts, chars, chars_counts)\n",
    "ngrams, probability = obliczPrawdopodobienstwoWystapieniaZdania(ngrams, ngrams_counts)\n",
    "entropiaWaruknowa(probability, probability_conditional)"
   ]
  },
  {
   "cell_type": "code",
   "execution_count": null,
   "metadata": {},
   "outputs": [],
   "source": [
    "#Entropia warunkowa 3 stopnia\n",
    "ngrams, ngrams_counts, chars, chars_counts = dzielenieTekstu(s1, 4)\n",
    "ngrams, probability_conditional  = obliczPrawdopodobienstwoWarunkowe(ngrams, ngrams_counts, chars, chars_counts)\n",
    "ngrams, probability = obliczPrawdopodobienstwoWystapieniaNgramu(ngrams, ngrams_counts)\n",
    "entropiaWaruknowa(probability, probability_conditional)"
   ]
  },
  {
   "cell_type": "code",
   "execution_count": null,
   "metadata": {},
   "outputs": [],
   "source": [
    "#Entropia warunkowa 2 stopnia - wyrazy\n",
    "ngrams, ngrams_counts, chars, chars_counts = dzielenieTekstuWyrazy(s1, 4)\n",
    "ngrams, probability_conditional  = obliczPrawdopodobienstwoWarunkoweWyrazow(ngrams, ngrams_counts, chars, chars_counts)\n",
    "ngrams, probability = obliczPrawdopodobienstwoWystapieniaZdania(ngrams, ngrams_counts)\n",
    "entropiaWaruknowa(probability, probability_conditional)"
   ]
  },
  {
   "cell_type": "code",
   "execution_count": null,
   "metadata": {},
   "outputs": [],
   "source": []
  },
  {
   "cell_type": "code",
   "execution_count": null,
   "metadata": {},
   "outputs": [],
   "source": [
    "s1 = readFile(\"sample3.txt\")"
   ]
  },
  {
   "cell_type": "code",
   "execution_count": null,
   "metadata": {},
   "outputs": [],
   "source": [
    "letters = readLetters(s1)\n",
    "probability = []\n",
    "for letter in letters:\n",
    "    probability.append(letter / len(s1))\n",
    "#entropia znakowa dla próbki języka łacińskiego:\n",
    "entropia(probability)"
   ]
  },
  {
   "cell_type": "code",
   "execution_count": null,
   "metadata": {},
   "outputs": [],
   "source": [
    "words, words_counts = countWords(s1)\n",
    "probability = []\n",
    "for word in words:\n",
    "    probability.append(letter / len(s1.split()))\n",
    "#entropia słowna dla próbki języka łacińskiego:\n",
    "entropia(probability)"
   ]
  },
  {
   "cell_type": "code",
   "execution_count": null,
   "metadata": {},
   "outputs": [],
   "source": [
    "#Entropia warunkowa 1 stopnia\n",
    "ngrams, ngrams_counts, chars, chars_counts = dzielenieTekstu(s1, 2)\n",
    "ngrams, probability_conditional  = obliczPrawdopodobienstwoWarunkowe(ngrams, ngrams_counts, chars, chars_counts)\n",
    "ngrams, probability = obliczPrawdopodobienstwoWystapieniaNgramu(ngrams, ngrams_counts)\n",
    "entropiaWaruknowa(probability, probability_conditional)"
   ]
  },
  {
   "cell_type": "code",
   "execution_count": null,
   "metadata": {},
   "outputs": [],
   "source": [
    "#Entropia warunkowa 1 stopnia - wyrazy\n",
    "ngrams, ngrams_counts, chars, chars_counts = dzielenieTekstuWyrazy(s1, 2)\n",
    "ngrams, probability_conditional  = obliczPrawdopodobienstwoWarunkoweWyrazow(ngrams, ngrams_counts, chars, chars_counts)\n",
    "ngrams, probability = obliczPrawdopodobienstwoWystapieniaZdania(ngrams, ngrams_counts)\n",
    "entropiaWaruknowa(probability, probability_conditional)"
   ]
  },
  {
   "cell_type": "code",
   "execution_count": null,
   "metadata": {},
   "outputs": [],
   "source": [
    "#Entropia warunkowa 2 stopnia\n",
    "ngrams, ngrams_counts, chars, chars_counts = dzielenieTekstu(s1, 3)\n",
    "ngrams, probability_conditional  = obliczPrawdopodobienstwoWarunkowe(ngrams, ngrams_counts, chars, chars_counts)\n",
    "ngrams, probability = obliczPrawdopodobienstwoWystapieniaNgramu(ngrams, ngrams_counts)\n",
    "entropiaWaruknowa(probability, probability_conditional)"
   ]
  },
  {
   "cell_type": "code",
   "execution_count": null,
   "metadata": {},
   "outputs": [],
   "source": [
    "#Entropia warunkowa 2 stopnia - wyrazy\n",
    "ngrams, ngrams_counts, chars, chars_counts = dzielenieTekstuWyrazy(s1, 3)\n",
    "ngrams, probability_conditional  = obliczPrawdopodobienstwoWarunkoweWyrazow(ngrams, ngrams_counts, chars, chars_counts)\n",
    "ngrams, probability = obliczPrawdopodobienstwoWystapieniaZdania(ngrams, ngrams_counts)\n",
    "entropiaWaruknowa(probability, probability_conditional)"
   ]
  },
  {
   "cell_type": "code",
   "execution_count": null,
   "metadata": {},
   "outputs": [],
   "source": [
    "#Entropia warunkowa 3 stopnia\n",
    "ngrams, ngrams_counts, chars, chars_counts = dzielenieTekstu(s1, 4)\n",
    "ngrams, probability_conditional  = obliczPrawdopodobienstwoWarunkowe(ngrams, ngrams_counts, chars, chars_counts)\n",
    "ngrams, probability = obliczPrawdopodobienstwoWystapieniaNgramu(ngrams, ngrams_counts)\n",
    "entropiaWaruknowa(probability, probability_conditional)"
   ]
  },
  {
   "cell_type": "code",
   "execution_count": null,
   "metadata": {},
   "outputs": [],
   "source": [
    "#Entropia warunkowa 2 stopnia - wyrazy\n",
    "ngrams, ngrams_counts, chars, chars_counts = dzielenieTekstuWyrazy(s1, 4)\n",
    "ngrams, probability_conditional  = obliczPrawdopodobienstwoWarunkoweWyrazow(ngrams, ngrams_counts, chars, chars_counts)\n",
    "ngrams, probability = obliczPrawdopodobienstwoWystapieniaZdania(ngrams, ngrams_counts)\n",
    "entropiaWaruknowa(probability, probability_conditional)"
   ]
  },
  {
   "cell_type": "code",
   "execution_count": null,
   "metadata": {},
   "outputs": [],
   "source": []
  },
  {
   "cell_type": "code",
   "execution_count": null,
   "metadata": {},
   "outputs": [],
   "source": [
    "s1 = readFile(\"sample4.txt\")"
   ]
  },
  {
   "cell_type": "code",
   "execution_count": null,
   "metadata": {},
   "outputs": [],
   "source": [
    "letters = readLetters(s1)\n",
    "probability = []\n",
    "for letter in letters:\n",
    "    probability.append(letter / len(s1))\n",
    "#entropia znakowa dla próbki języka łacińskiego:\n",
    "entropia(probability)"
   ]
  },
  {
   "cell_type": "code",
   "execution_count": null,
   "metadata": {},
   "outputs": [],
   "source": [
    "words, words_counts = countWords(s1)\n",
    "probability = []\n",
    "for word in words:\n",
    "    probability.append(letter / len(s1.split()))\n",
    "#entropia słowna dla próbki języka łacińskiego:\n",
    "entropia(probability)"
   ]
  },
  {
   "cell_type": "code",
   "execution_count": null,
   "metadata": {},
   "outputs": [],
   "source": [
    "#Entropia warunkowa 1 stopnia\n",
    "ngrams, ngrams_counts, chars, chars_counts = dzielenieTekstu(s1, 2)\n",
    "ngrams, probability_conditional  = obliczPrawdopodobienstwoWarunkowe(ngrams, ngrams_counts, chars, chars_counts)\n",
    "ngrams, probability = obliczPrawdopodobienstwoWystapieniaNgramu(ngrams, ngrams_counts)\n",
    "entropiaWaruknowa(probability, probability_conditional)"
   ]
  },
  {
   "cell_type": "code",
   "execution_count": null,
   "metadata": {},
   "outputs": [],
   "source": [
    "#Entropia warunkowa 1 stopnia - wyrazy\n",
    "ngrams, ngrams_counts, chars, chars_counts = dzielenieTekstuWyrazy(s1, 2)\n",
    "ngrams, probability_conditional  = obliczPrawdopodobienstwoWarunkoweWyrazow(ngrams, ngrams_counts, chars, chars_counts)\n",
    "ngrams, probability = obliczPrawdopodobienstwoWystapieniaZdania(ngrams, ngrams_counts)\n",
    "entropiaWaruknowa(probability, probability_conditional)"
   ]
  },
  {
   "cell_type": "code",
   "execution_count": null,
   "metadata": {},
   "outputs": [],
   "source": [
    "#Entropia warunkowa 2 stopnia\n",
    "ngrams, ngrams_counts, chars, chars_counts = dzielenieTekstu(s1, 3)\n",
    "ngrams, probability_conditional  = obliczPrawdopodobienstwoWarunkowe(ngrams, ngrams_counts, chars, chars_counts)\n",
    "ngrams, probability = obliczPrawdopodobienstwoWystapieniaNgramu(ngrams, ngrams_counts)\n",
    "entropiaWaruknowa(probability, probability_conditional)"
   ]
  },
  {
   "cell_type": "code",
   "execution_count": null,
   "metadata": {},
   "outputs": [],
   "source": [
    "#Entropia warunkowa 2 stopnia - wyrazy\n",
    "ngrams, ngrams_counts, chars, chars_counts = dzielenieTekstuWyrazy(s1, 3)\n",
    "ngrams, probability_conditional  = obliczPrawdopodobienstwoWarunkoweWyrazow(ngrams, ngrams_counts, chars, chars_counts)\n",
    "ngrams, probability = obliczPrawdopodobienstwoWystapieniaZdania(ngrams, ngrams_counts)\n",
    "entropiaWaruknowa(probability, probability_conditional)"
   ]
  },
  {
   "cell_type": "code",
   "execution_count": null,
   "metadata": {},
   "outputs": [],
   "source": [
    "#Entropia warunkowa 3 stopnia\n",
    "ngrams, ngrams_counts, chars, chars_counts = dzielenieTekstu(s1, 4)\n",
    "ngrams, probability_conditional  = obliczPrawdopodobienstwoWarunkowe(ngrams, ngrams_counts, chars, chars_counts)\n",
    "ngrams, probability = obliczPrawdopodobienstwoWystapieniaNgramu(ngrams, ngrams_counts)\n",
    "entropiaWaruknowa(probability, probability_conditional)"
   ]
  },
  {
   "cell_type": "code",
   "execution_count": null,
   "metadata": {},
   "outputs": [],
   "source": [
    "#Entropia warunkowa 2 stopnia - wyrazy\n",
    "ngrams, ngrams_counts, chars, chars_counts = dzielenieTekstuWyrazy(s1, 4)\n",
    "ngrams, probability_conditional  = obliczPrawdopodobienstwoWarunkoweWyrazow(ngrams, ngrams_counts, chars, chars_counts)\n",
    "ngrams, probability = obliczPrawdopodobienstwoWystapieniaZdania(ngrams, ngrams_counts)\n",
    "entropiaWaruknowa(probability, probability_conditional)"
   ]
  },
  {
   "cell_type": "code",
   "execution_count": null,
   "metadata": {},
   "outputs": [],
   "source": []
  },
  {
   "cell_type": "code",
   "execution_count": null,
   "metadata": {},
   "outputs": [],
   "source": [
    "s1 = readFile(\"sample5.txt\")"
   ]
  },
  {
   "cell_type": "code",
   "execution_count": null,
   "metadata": {},
   "outputs": [],
   "source": [
    "letters = readLetters(s1)\n",
    "probability = []\n",
    "for letter in letters:\n",
    "    probability.append(letter / len(s1))\n",
    "#entropia znakowa dla próbki języka łacińskiego:\n",
    "entropia(probability)"
   ]
  },
  {
   "cell_type": "code",
   "execution_count": null,
   "metadata": {},
   "outputs": [],
   "source": [
    "words, words_counts = countWords(s1)\n",
    "probability = []\n",
    "for word in words:\n",
    "    probability.append(letter / len(s1.split()))\n",
    "#entropia słowna dla próbki języka łacińskiego:\n",
    "entropia(probability)"
   ]
  },
  {
   "cell_type": "code",
   "execution_count": null,
   "metadata": {},
   "outputs": [],
   "source": [
    "#Entropia warunkowa 1 stopnia\n",
    "ngrams, ngrams_counts, chars, chars_counts = dzielenieTekstu(s1, 2)\n",
    "ngrams, probability_conditional  = obliczPrawdopodobienstwoWarunkowe(ngrams, ngrams_counts, chars, chars_counts)\n",
    "ngrams, probability = obliczPrawdopodobienstwoWystapieniaNgramu(ngrams, ngrams_counts)\n",
    "entropiaWaruknowa(probability, probability_conditional)"
   ]
  },
  {
   "cell_type": "code",
   "execution_count": null,
   "metadata": {},
   "outputs": [],
   "source": [
    "#Entropia warunkowa 1 stopnia - wyrazy\n",
    "ngrams, ngrams_counts, chars, chars_counts = dzielenieTekstuWyrazy(s1, 2)\n",
    "ngrams, probability_conditional  = obliczPrawdopodobienstwoWarunkoweWyrazow(ngrams, ngrams_counts, chars, chars_counts)\n",
    "ngrams, probability = obliczPrawdopodobienstwoWystapieniaZdania(ngrams, ngrams_counts)\n",
    "entropiaWaruknowa(probability, probability_conditional)"
   ]
  },
  {
   "cell_type": "code",
   "execution_count": null,
   "metadata": {},
   "outputs": [],
   "source": [
    "#Entropia warunkowa 2 stopnia\n",
    "ngrams, ngrams_counts, chars, chars_counts = dzielenieTekstu(s1, 3)\n",
    "ngrams, probability_conditional  = obliczPrawdopodobienstwoWarunkowe(ngrams, ngrams_counts, chars, chars_counts)\n",
    "ngrams, probability = obliczPrawdopodobienstwoWystapieniaNgramu(ngrams, ngrams_counts)\n",
    "entropiaWaruknowa(probability, probability_conditional)"
   ]
  },
  {
   "cell_type": "code",
   "execution_count": null,
   "metadata": {},
   "outputs": [],
   "source": [
    "#Entropia warunkowa 2 stopnia - wyrazy\n",
    "ngrams, ngrams_counts, chars, chars_counts = dzielenieTekstuWyrazy(s1, 3)\n",
    "ngrams, probability_conditional  = obliczPrawdopodobienstwoWarunkoweWyrazow(ngrams, ngrams_counts, chars, chars_counts)\n",
    "ngrams, probability = obliczPrawdopodobienstwoWystapieniaZdania(ngrams, ngrams_counts)\n",
    "entropiaWaruknowa(probability, probability_conditional)"
   ]
  },
  {
   "cell_type": "code",
   "execution_count": null,
   "metadata": {},
   "outputs": [],
   "source": [
    "#Entropia warunkowa 3 stopnia\n",
    "ngrams, ngrams_counts, chars, chars_counts = dzielenieTekstu(s1, 4)\n",
    "ngrams, probability_conditional  = obliczPrawdopodobienstwoWarunkowe(ngrams, ngrams_counts, chars, chars_counts)\n",
    "ngrams, probability = obliczPrawdopodobienstwoWystapieniaNgramu(ngrams, ngrams_counts)\n",
    "entropiaWaruknowa(probability, probability_conditional)"
   ]
  },
  {
   "cell_type": "code",
   "execution_count": null,
   "metadata": {},
   "outputs": [],
   "source": [
    "#Entropia warunkowa 2 stopnia - wyrazy\n",
    "ngrams, ngrams_counts, chars, chars_counts = dzielenieTekstuWyrazy(s1, 4)\n",
    "ngrams, probability_conditional  = obliczPrawdopodobienstwoWarunkoweWyrazow(ngrams, ngrams_counts, chars, chars_counts)\n",
    "ngrams, probability = obliczPrawdopodobienstwoWystapieniaZdania(ngrams, ngrams_counts)\n",
    "entropiaWaruknowa(probability, probability_conditional)"
   ]
  },
  {
   "cell_type": "code",
   "execution_count": null,
   "metadata": {},
   "outputs": [],
   "source": []
  },
  {
   "cell_type": "code",
   "execution_count": null,
   "metadata": {},
   "outputs": [],
   "source": []
  }
 ],
 "metadata": {
  "anaconda-cloud": {},
  "kernelspec": {
   "display_name": "Python 3",
   "language": "python",
   "name": "python3"
  },
  "language_info": {
   "codemirror_mode": {
    "name": "ipython",
    "version": 3
   },
   "file_extension": ".py",
   "mimetype": "text/x-python",
   "name": "python",
   "nbconvert_exporter": "python",
   "pygments_lexer": "ipython3",
   "version": "3.7.3"
  }
 },
 "nbformat": 4,
 "nbformat_minor": 1
}
